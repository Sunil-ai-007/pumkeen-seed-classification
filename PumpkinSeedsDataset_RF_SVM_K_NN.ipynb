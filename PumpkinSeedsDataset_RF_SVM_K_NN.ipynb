{
  "nbformat": 4,
  "nbformat_minor": 0,
  "metadata": {
    "colab": {
      "provenance": [],
      "include_colab_link": true
    },
    "kernelspec": {
      "name": "python3",
      "display_name": "Python 3"
    },
    "language_info": {
      "name": "python"
    }
  },
  "cells": [
    {
      "cell_type": "markdown",
      "metadata": {
        "id": "view-in-github",
        "colab_type": "text"
      },
      "source": [
        "<a href=\"https://colab.research.google.com/github/Sunil-ai-007/pumkin-seed-classification/blob/main/PumpkinSeedsDataset_RF_SVM_K_NN.ipynb\" target=\"_parent\"><img src=\"https://colab.research.google.com/assets/colab-badge.svg\" alt=\"Open In Colab\"/></a>"
      ]
    },
    {
      "cell_type": "code",
      "execution_count": null,
      "metadata": {
        "id": "Y0iLeJOfIJ7J"
      },
      "outputs": [],
      "source": [
        "import pandas as pd"
      ]
    },
    {
      "cell_type": "code",
      "source": [
        "Pumpkin_Seeds_Dataset = pd.read_excel(\"/content/Pumpkin_Seeds_Dataset.xlsx\")"
      ],
      "metadata": {
        "id": "AxMkoJzAIU55"
      },
      "execution_count": null,
      "outputs": []
    },
    {
      "cell_type": "code",
      "source": [
        "Pumpkin_Seeds_Dataset.head()"
      ],
      "metadata": {
        "colab": {
          "base_uri": "https://localhost:8080/",
          "height": 270
        },
        "id": "1wUN5FyPKI0G",
        "outputId": "d99f986b-92a4-4d65-cfba-448e4335ec24"
      },
      "execution_count": null,
      "outputs": [
        {
          "output_type": "execute_result",
          "data": {
            "text/plain": [
              "    Area  Perimeter  Major_Axis_Length  Minor_Axis_Length  Convex_Area  \\\n",
              "0  56276    888.242           326.1485           220.2388        56831   \n",
              "1  76631   1068.146           417.1932           234.2289        77280   \n",
              "2  71623   1082.987           435.8328           211.0457        72663   \n",
              "3  66458    992.051           381.5638           222.5322        67118   \n",
              "4  66107    998.146           383.8883           220.4545        67117   \n",
              "\n",
              "   Equiv_Diameter  Eccentricity  Solidity  Extent  Roundness  Aspect_Ration  \\\n",
              "0        267.6805        0.7376    0.9902  0.7453     0.8963         1.4809   \n",
              "1        312.3614        0.8275    0.9916  0.7151     0.8440         1.7811   \n",
              "2        301.9822        0.8749    0.9857  0.7400     0.7674         2.0651   \n",
              "3        290.8899        0.8123    0.9902  0.7396     0.8486         1.7146   \n",
              "4        290.1207        0.8187    0.9850  0.6752     0.8338         1.7413   \n",
              "\n",
              "   Compactness       Class  \n",
              "0       0.8207  Çerçevelik  \n",
              "1       0.7487  Çerçevelik  \n",
              "2       0.6929  Çerçevelik  \n",
              "3       0.7624  Çerçevelik  \n",
              "4       0.7557  Çerçevelik  "
            ],
            "text/html": [
              "\n",
              "  <div id=\"df-4d40c2a8-9255-4fe7-aad5-1f065b69dcdd\">\n",
              "    <div class=\"colab-df-container\">\n",
              "      <div>\n",
              "<style scoped>\n",
              "    .dataframe tbody tr th:only-of-type {\n",
              "        vertical-align: middle;\n",
              "    }\n",
              "\n",
              "    .dataframe tbody tr th {\n",
              "        vertical-align: top;\n",
              "    }\n",
              "\n",
              "    .dataframe thead th {\n",
              "        text-align: right;\n",
              "    }\n",
              "</style>\n",
              "<table border=\"1\" class=\"dataframe\">\n",
              "  <thead>\n",
              "    <tr style=\"text-align: right;\">\n",
              "      <th></th>\n",
              "      <th>Area</th>\n",
              "      <th>Perimeter</th>\n",
              "      <th>Major_Axis_Length</th>\n",
              "      <th>Minor_Axis_Length</th>\n",
              "      <th>Convex_Area</th>\n",
              "      <th>Equiv_Diameter</th>\n",
              "      <th>Eccentricity</th>\n",
              "      <th>Solidity</th>\n",
              "      <th>Extent</th>\n",
              "      <th>Roundness</th>\n",
              "      <th>Aspect_Ration</th>\n",
              "      <th>Compactness</th>\n",
              "      <th>Class</th>\n",
              "    </tr>\n",
              "  </thead>\n",
              "  <tbody>\n",
              "    <tr>\n",
              "      <th>0</th>\n",
              "      <td>56276</td>\n",
              "      <td>888.242</td>\n",
              "      <td>326.1485</td>\n",
              "      <td>220.2388</td>\n",
              "      <td>56831</td>\n",
              "      <td>267.6805</td>\n",
              "      <td>0.7376</td>\n",
              "      <td>0.9902</td>\n",
              "      <td>0.7453</td>\n",
              "      <td>0.8963</td>\n",
              "      <td>1.4809</td>\n",
              "      <td>0.8207</td>\n",
              "      <td>Çerçevelik</td>\n",
              "    </tr>\n",
              "    <tr>\n",
              "      <th>1</th>\n",
              "      <td>76631</td>\n",
              "      <td>1068.146</td>\n",
              "      <td>417.1932</td>\n",
              "      <td>234.2289</td>\n",
              "      <td>77280</td>\n",
              "      <td>312.3614</td>\n",
              "      <td>0.8275</td>\n",
              "      <td>0.9916</td>\n",
              "      <td>0.7151</td>\n",
              "      <td>0.8440</td>\n",
              "      <td>1.7811</td>\n",
              "      <td>0.7487</td>\n",
              "      <td>Çerçevelik</td>\n",
              "    </tr>\n",
              "    <tr>\n",
              "      <th>2</th>\n",
              "      <td>71623</td>\n",
              "      <td>1082.987</td>\n",
              "      <td>435.8328</td>\n",
              "      <td>211.0457</td>\n",
              "      <td>72663</td>\n",
              "      <td>301.9822</td>\n",
              "      <td>0.8749</td>\n",
              "      <td>0.9857</td>\n",
              "      <td>0.7400</td>\n",
              "      <td>0.7674</td>\n",
              "      <td>2.0651</td>\n",
              "      <td>0.6929</td>\n",
              "      <td>Çerçevelik</td>\n",
              "    </tr>\n",
              "    <tr>\n",
              "      <th>3</th>\n",
              "      <td>66458</td>\n",
              "      <td>992.051</td>\n",
              "      <td>381.5638</td>\n",
              "      <td>222.5322</td>\n",
              "      <td>67118</td>\n",
              "      <td>290.8899</td>\n",
              "      <td>0.8123</td>\n",
              "      <td>0.9902</td>\n",
              "      <td>0.7396</td>\n",
              "      <td>0.8486</td>\n",
              "      <td>1.7146</td>\n",
              "      <td>0.7624</td>\n",
              "      <td>Çerçevelik</td>\n",
              "    </tr>\n",
              "    <tr>\n",
              "      <th>4</th>\n",
              "      <td>66107</td>\n",
              "      <td>998.146</td>\n",
              "      <td>383.8883</td>\n",
              "      <td>220.4545</td>\n",
              "      <td>67117</td>\n",
              "      <td>290.1207</td>\n",
              "      <td>0.8187</td>\n",
              "      <td>0.9850</td>\n",
              "      <td>0.6752</td>\n",
              "      <td>0.8338</td>\n",
              "      <td>1.7413</td>\n",
              "      <td>0.7557</td>\n",
              "      <td>Çerçevelik</td>\n",
              "    </tr>\n",
              "  </tbody>\n",
              "</table>\n",
              "</div>\n",
              "      <button class=\"colab-df-convert\" onclick=\"convertToInteractive('df-4d40c2a8-9255-4fe7-aad5-1f065b69dcdd')\"\n",
              "              title=\"Convert this dataframe to an interactive table.\"\n",
              "              style=\"display:none;\">\n",
              "        \n",
              "  <svg xmlns=\"http://www.w3.org/2000/svg\" height=\"24px\"viewBox=\"0 0 24 24\"\n",
              "       width=\"24px\">\n",
              "    <path d=\"M0 0h24v24H0V0z\" fill=\"none\"/>\n",
              "    <path d=\"M18.56 5.44l.94 2.06.94-2.06 2.06-.94-2.06-.94-.94-2.06-.94 2.06-2.06.94zm-11 1L8.5 8.5l.94-2.06 2.06-.94-2.06-.94L8.5 2.5l-.94 2.06-2.06.94zm10 10l.94 2.06.94-2.06 2.06-.94-2.06-.94-.94-2.06-.94 2.06-2.06.94z\"/><path d=\"M17.41 7.96l-1.37-1.37c-.4-.4-.92-.59-1.43-.59-.52 0-1.04.2-1.43.59L10.3 9.45l-7.72 7.72c-.78.78-.78 2.05 0 2.83L4 21.41c.39.39.9.59 1.41.59.51 0 1.02-.2 1.41-.59l7.78-7.78 2.81-2.81c.8-.78.8-2.07 0-2.86zM5.41 20L4 18.59l7.72-7.72 1.47 1.35L5.41 20z\"/>\n",
              "  </svg>\n",
              "      </button>\n",
              "      \n",
              "  <style>\n",
              "    .colab-df-container {\n",
              "      display:flex;\n",
              "      flex-wrap:wrap;\n",
              "      gap: 12px;\n",
              "    }\n",
              "\n",
              "    .colab-df-convert {\n",
              "      background-color: #E8F0FE;\n",
              "      border: none;\n",
              "      border-radius: 50%;\n",
              "      cursor: pointer;\n",
              "      display: none;\n",
              "      fill: #1967D2;\n",
              "      height: 32px;\n",
              "      padding: 0 0 0 0;\n",
              "      width: 32px;\n",
              "    }\n",
              "\n",
              "    .colab-df-convert:hover {\n",
              "      background-color: #E2EBFA;\n",
              "      box-shadow: 0px 1px 2px rgba(60, 64, 67, 0.3), 0px 1px 3px 1px rgba(60, 64, 67, 0.15);\n",
              "      fill: #174EA6;\n",
              "    }\n",
              "\n",
              "    [theme=dark] .colab-df-convert {\n",
              "      background-color: #3B4455;\n",
              "      fill: #D2E3FC;\n",
              "    }\n",
              "\n",
              "    [theme=dark] .colab-df-convert:hover {\n",
              "      background-color: #434B5C;\n",
              "      box-shadow: 0px 1px 3px 1px rgba(0, 0, 0, 0.15);\n",
              "      filter: drop-shadow(0px 1px 2px rgba(0, 0, 0, 0.3));\n",
              "      fill: #FFFFFF;\n",
              "    }\n",
              "  </style>\n",
              "\n",
              "      <script>\n",
              "        const buttonEl =\n",
              "          document.querySelector('#df-4d40c2a8-9255-4fe7-aad5-1f065b69dcdd button.colab-df-convert');\n",
              "        buttonEl.style.display =\n",
              "          google.colab.kernel.accessAllowed ? 'block' : 'none';\n",
              "\n",
              "        async function convertToInteractive(key) {\n",
              "          const element = document.querySelector('#df-4d40c2a8-9255-4fe7-aad5-1f065b69dcdd');\n",
              "          const dataTable =\n",
              "            await google.colab.kernel.invokeFunction('convertToInteractive',\n",
              "                                                     [key], {});\n",
              "          if (!dataTable) return;\n",
              "\n",
              "          const docLinkHtml = 'Like what you see? Visit the ' +\n",
              "            '<a target=\"_blank\" href=https://colab.research.google.com/notebooks/data_table.ipynb>data table notebook</a>'\n",
              "            + ' to learn more about interactive tables.';\n",
              "          element.innerHTML = '';\n",
              "          dataTable['output_type'] = 'display_data';\n",
              "          await google.colab.output.renderOutput(dataTable, element);\n",
              "          const docLink = document.createElement('div');\n",
              "          docLink.innerHTML = docLinkHtml;\n",
              "          element.appendChild(docLink);\n",
              "        }\n",
              "      </script>\n",
              "    </div>\n",
              "  </div>\n",
              "  "
            ]
          },
          "metadata": {},
          "execution_count": 3
        }
      ]
    },
    {
      "cell_type": "code",
      "source": [
        "Pumpkin_Seeds_Dataset[\"Class\"].replace({\"Çerçevelik\":0,\"Ürgüp Sivrisi\":1},inplace=True)"
      ],
      "metadata": {
        "id": "RBz8ps2dS-oF"
      },
      "execution_count": null,
      "outputs": []
    },
    {
      "cell_type": "code",
      "source": [
        "Pumpkin_Seeds_Dataset.shape"
      ],
      "metadata": {
        "colab": {
          "base_uri": "https://localhost:8080/"
        },
        "id": "CShtWvjPKTjO",
        "outputId": "08017e6e-4764-4421-e5cf-4acee554c64a"
      },
      "execution_count": null,
      "outputs": [
        {
          "output_type": "execute_result",
          "data": {
            "text/plain": [
              "(2500, 13)"
            ]
          },
          "metadata": {},
          "execution_count": 5
        }
      ]
    },
    {
      "cell_type": "code",
      "source": [
        "# Data Quality Check"
      ],
      "metadata": {
        "id": "4-aWTLKDKep_"
      },
      "execution_count": null,
      "outputs": []
    },
    {
      "cell_type": "code",
      "source": [
        "Pumpkin_Seeds_Dataset.info()"
      ],
      "metadata": {
        "id": "QHxZWhQSK7li",
        "colab": {
          "base_uri": "https://localhost:8080/"
        },
        "outputId": "dea49861-1687-4892-ab75-f2876714cc74"
      },
      "execution_count": null,
      "outputs": [
        {
          "output_type": "stream",
          "name": "stdout",
          "text": [
            "<class 'pandas.core.frame.DataFrame'>\n",
            "RangeIndex: 2500 entries, 0 to 2499\n",
            "Data columns (total 13 columns):\n",
            " #   Column             Non-Null Count  Dtype  \n",
            "---  ------             --------------  -----  \n",
            " 0   Area               2500 non-null   int64  \n",
            " 1   Perimeter          2500 non-null   float64\n",
            " 2   Major_Axis_Length  2500 non-null   float64\n",
            " 3   Minor_Axis_Length  2500 non-null   float64\n",
            " 4   Convex_Area        2500 non-null   int64  \n",
            " 5   Equiv_Diameter     2500 non-null   float64\n",
            " 6   Eccentricity       2500 non-null   float64\n",
            " 7   Solidity           2500 non-null   float64\n",
            " 8   Extent             2500 non-null   float64\n",
            " 9   Roundness          2500 non-null   float64\n",
            " 10  Aspect_Ration      2500 non-null   float64\n",
            " 11  Compactness        2500 non-null   float64\n",
            " 12  Class              2500 non-null   int64  \n",
            "dtypes: float64(10), int64(3)\n",
            "memory usage: 254.0 KB\n"
          ]
        }
      ]
    },
    {
      "cell_type": "code",
      "source": [
        "Pumpkin_Seeds_Dataset.corr()"
      ],
      "metadata": {
        "colab": {
          "base_uri": "https://localhost:8080/",
          "height": 521
        },
        "id": "jOx10ShvL89K",
        "outputId": "90696b57-c114-46f1-8673-bb83540c3f2e"
      },
      "execution_count": null,
      "outputs": [
        {
          "output_type": "execute_result",
          "data": {
            "text/plain": [
              "                       Area  Perimeter  Major_Axis_Length  Minor_Axis_Length  \\\n",
              "Area               1.000000   0.928548           0.789133           0.685304   \n",
              "Perimeter          0.928548   1.000000           0.946181           0.392913   \n",
              "Major_Axis_Length  0.789133   0.946181           1.000000           0.099376   \n",
              "Minor_Axis_Length  0.685304   0.392913           0.099376           1.000000   \n",
              "Convex_Area        0.999806   0.929971           0.789061           0.685634   \n",
              "Equiv_Diameter     0.998464   0.928055           0.787078           0.690020   \n",
              "Eccentricity       0.159624   0.464601           0.704287          -0.590877   \n",
              "Solidity           0.158388   0.065340           0.119291           0.090915   \n",
              "Extent            -0.014018  -0.140600          -0.214990           0.233576   \n",
              "Roundness         -0.149378  -0.500968          -0.684972           0.558566   \n",
              "Aspect_Ration      0.159960   0.487880           0.729156          -0.598475   \n",
              "Compactness       -0.160438  -0.484440          -0.726958           0.603441   \n",
              "Class              0.170280   0.388345           0.561458          -0.401362   \n",
              "\n",
              "                   Convex_Area  Equiv_Diameter  Eccentricity  Solidity  \\\n",
              "Area                  0.999806        0.998464      0.159624  0.158388   \n",
              "Perimeter             0.929971        0.928055      0.464601  0.065340   \n",
              "Major_Axis_Length     0.789061        0.787078      0.704287  0.119291   \n",
              "Minor_Axis_Length     0.685634        0.690020     -0.590877  0.090915   \n",
              "Convex_Area           1.000000        0.998289      0.159156  0.139178   \n",
              "Equiv_Diameter        0.998289        1.000000      0.156246  0.159454   \n",
              "Eccentricity          0.159156        0.156246      1.000000  0.043991   \n",
              "Solidity              0.139178        0.159454      0.043991  1.000000   \n",
              "Extent               -0.015449       -0.010970     -0.327316  0.067537   \n",
              "Roundness            -0.153615       -0.145313     -0.890651  0.200836   \n",
              "Aspect_Ration         0.159822        0.155762      0.950225  0.026410   \n",
              "Compactness          -0.160432       -0.156411     -0.981689 -0.019967   \n",
              "Class                 0.168029        0.160303      0.699319  0.122674   \n",
              "\n",
              "                     Extent  Roundness  Aspect_Ration  Compactness     Class  \n",
              "Area              -0.014018  -0.149378       0.159960    -0.160438  0.170280  \n",
              "Perimeter         -0.140600  -0.500968       0.487880    -0.484440  0.388345  \n",
              "Major_Axis_Length -0.214990  -0.684972       0.729156    -0.726958  0.561458  \n",
              "Minor_Axis_Length  0.233576   0.558566      -0.598475     0.603441 -0.401362  \n",
              "Convex_Area       -0.015449  -0.153615       0.159822    -0.160432  0.168029  \n",
              "Equiv_Diameter    -0.010970  -0.145313       0.155762    -0.156411  0.160303  \n",
              "Eccentricity      -0.327316  -0.890651       0.950225    -0.981689  0.699319  \n",
              "Solidity           0.067537   0.200836       0.026410    -0.019967  0.122674  \n",
              "Extent             1.000000   0.352338      -0.329933     0.336984 -0.236076  \n",
              "Roundness          0.352338   1.000000      -0.935233     0.933308 -0.669514  \n",
              "Aspect_Ration     -0.329933  -0.935233       1.000000    -0.990778  0.721796  \n",
              "Compactness        0.336984   0.933308      -0.990778     1.000000 -0.726676  \n",
              "Class             -0.236076  -0.669514       0.721796    -0.726676  1.000000  "
            ],
            "text/html": [
              "\n",
              "  <div id=\"df-9fa8eb8c-5de5-4981-a5f5-603e37ee45fe\">\n",
              "    <div class=\"colab-df-container\">\n",
              "      <div>\n",
              "<style scoped>\n",
              "    .dataframe tbody tr th:only-of-type {\n",
              "        vertical-align: middle;\n",
              "    }\n",
              "\n",
              "    .dataframe tbody tr th {\n",
              "        vertical-align: top;\n",
              "    }\n",
              "\n",
              "    .dataframe thead th {\n",
              "        text-align: right;\n",
              "    }\n",
              "</style>\n",
              "<table border=\"1\" class=\"dataframe\">\n",
              "  <thead>\n",
              "    <tr style=\"text-align: right;\">\n",
              "      <th></th>\n",
              "      <th>Area</th>\n",
              "      <th>Perimeter</th>\n",
              "      <th>Major_Axis_Length</th>\n",
              "      <th>Minor_Axis_Length</th>\n",
              "      <th>Convex_Area</th>\n",
              "      <th>Equiv_Diameter</th>\n",
              "      <th>Eccentricity</th>\n",
              "      <th>Solidity</th>\n",
              "      <th>Extent</th>\n",
              "      <th>Roundness</th>\n",
              "      <th>Aspect_Ration</th>\n",
              "      <th>Compactness</th>\n",
              "      <th>Class</th>\n",
              "    </tr>\n",
              "  </thead>\n",
              "  <tbody>\n",
              "    <tr>\n",
              "      <th>Area</th>\n",
              "      <td>1.000000</td>\n",
              "      <td>0.928548</td>\n",
              "      <td>0.789133</td>\n",
              "      <td>0.685304</td>\n",
              "      <td>0.999806</td>\n",
              "      <td>0.998464</td>\n",
              "      <td>0.159624</td>\n",
              "      <td>0.158388</td>\n",
              "      <td>-0.014018</td>\n",
              "      <td>-0.149378</td>\n",
              "      <td>0.159960</td>\n",
              "      <td>-0.160438</td>\n",
              "      <td>0.170280</td>\n",
              "    </tr>\n",
              "    <tr>\n",
              "      <th>Perimeter</th>\n",
              "      <td>0.928548</td>\n",
              "      <td>1.000000</td>\n",
              "      <td>0.946181</td>\n",
              "      <td>0.392913</td>\n",
              "      <td>0.929971</td>\n",
              "      <td>0.928055</td>\n",
              "      <td>0.464601</td>\n",
              "      <td>0.065340</td>\n",
              "      <td>-0.140600</td>\n",
              "      <td>-0.500968</td>\n",
              "      <td>0.487880</td>\n",
              "      <td>-0.484440</td>\n",
              "      <td>0.388345</td>\n",
              "    </tr>\n",
              "    <tr>\n",
              "      <th>Major_Axis_Length</th>\n",
              "      <td>0.789133</td>\n",
              "      <td>0.946181</td>\n",
              "      <td>1.000000</td>\n",
              "      <td>0.099376</td>\n",
              "      <td>0.789061</td>\n",
              "      <td>0.787078</td>\n",
              "      <td>0.704287</td>\n",
              "      <td>0.119291</td>\n",
              "      <td>-0.214990</td>\n",
              "      <td>-0.684972</td>\n",
              "      <td>0.729156</td>\n",
              "      <td>-0.726958</td>\n",
              "      <td>0.561458</td>\n",
              "    </tr>\n",
              "    <tr>\n",
              "      <th>Minor_Axis_Length</th>\n",
              "      <td>0.685304</td>\n",
              "      <td>0.392913</td>\n",
              "      <td>0.099376</td>\n",
              "      <td>1.000000</td>\n",
              "      <td>0.685634</td>\n",
              "      <td>0.690020</td>\n",
              "      <td>-0.590877</td>\n",
              "      <td>0.090915</td>\n",
              "      <td>0.233576</td>\n",
              "      <td>0.558566</td>\n",
              "      <td>-0.598475</td>\n",
              "      <td>0.603441</td>\n",
              "      <td>-0.401362</td>\n",
              "    </tr>\n",
              "    <tr>\n",
              "      <th>Convex_Area</th>\n",
              "      <td>0.999806</td>\n",
              "      <td>0.929971</td>\n",
              "      <td>0.789061</td>\n",
              "      <td>0.685634</td>\n",
              "      <td>1.000000</td>\n",
              "      <td>0.998289</td>\n",
              "      <td>0.159156</td>\n",
              "      <td>0.139178</td>\n",
              "      <td>-0.015449</td>\n",
              "      <td>-0.153615</td>\n",
              "      <td>0.159822</td>\n",
              "      <td>-0.160432</td>\n",
              "      <td>0.168029</td>\n",
              "    </tr>\n",
              "    <tr>\n",
              "      <th>Equiv_Diameter</th>\n",
              "      <td>0.998464</td>\n",
              "      <td>0.928055</td>\n",
              "      <td>0.787078</td>\n",
              "      <td>0.690020</td>\n",
              "      <td>0.998289</td>\n",
              "      <td>1.000000</td>\n",
              "      <td>0.156246</td>\n",
              "      <td>0.159454</td>\n",
              "      <td>-0.010970</td>\n",
              "      <td>-0.145313</td>\n",
              "      <td>0.155762</td>\n",
              "      <td>-0.156411</td>\n",
              "      <td>0.160303</td>\n",
              "    </tr>\n",
              "    <tr>\n",
              "      <th>Eccentricity</th>\n",
              "      <td>0.159624</td>\n",
              "      <td>0.464601</td>\n",
              "      <td>0.704287</td>\n",
              "      <td>-0.590877</td>\n",
              "      <td>0.159156</td>\n",
              "      <td>0.156246</td>\n",
              "      <td>1.000000</td>\n",
              "      <td>0.043991</td>\n",
              "      <td>-0.327316</td>\n",
              "      <td>-0.890651</td>\n",
              "      <td>0.950225</td>\n",
              "      <td>-0.981689</td>\n",
              "      <td>0.699319</td>\n",
              "    </tr>\n",
              "    <tr>\n",
              "      <th>Solidity</th>\n",
              "      <td>0.158388</td>\n",
              "      <td>0.065340</td>\n",
              "      <td>0.119291</td>\n",
              "      <td>0.090915</td>\n",
              "      <td>0.139178</td>\n",
              "      <td>0.159454</td>\n",
              "      <td>0.043991</td>\n",
              "      <td>1.000000</td>\n",
              "      <td>0.067537</td>\n",
              "      <td>0.200836</td>\n",
              "      <td>0.026410</td>\n",
              "      <td>-0.019967</td>\n",
              "      <td>0.122674</td>\n",
              "    </tr>\n",
              "    <tr>\n",
              "      <th>Extent</th>\n",
              "      <td>-0.014018</td>\n",
              "      <td>-0.140600</td>\n",
              "      <td>-0.214990</td>\n",
              "      <td>0.233576</td>\n",
              "      <td>-0.015449</td>\n",
              "      <td>-0.010970</td>\n",
              "      <td>-0.327316</td>\n",
              "      <td>0.067537</td>\n",
              "      <td>1.000000</td>\n",
              "      <td>0.352338</td>\n",
              "      <td>-0.329933</td>\n",
              "      <td>0.336984</td>\n",
              "      <td>-0.236076</td>\n",
              "    </tr>\n",
              "    <tr>\n",
              "      <th>Roundness</th>\n",
              "      <td>-0.149378</td>\n",
              "      <td>-0.500968</td>\n",
              "      <td>-0.684972</td>\n",
              "      <td>0.558566</td>\n",
              "      <td>-0.153615</td>\n",
              "      <td>-0.145313</td>\n",
              "      <td>-0.890651</td>\n",
              "      <td>0.200836</td>\n",
              "      <td>0.352338</td>\n",
              "      <td>1.000000</td>\n",
              "      <td>-0.935233</td>\n",
              "      <td>0.933308</td>\n",
              "      <td>-0.669514</td>\n",
              "    </tr>\n",
              "    <tr>\n",
              "      <th>Aspect_Ration</th>\n",
              "      <td>0.159960</td>\n",
              "      <td>0.487880</td>\n",
              "      <td>0.729156</td>\n",
              "      <td>-0.598475</td>\n",
              "      <td>0.159822</td>\n",
              "      <td>0.155762</td>\n",
              "      <td>0.950225</td>\n",
              "      <td>0.026410</td>\n",
              "      <td>-0.329933</td>\n",
              "      <td>-0.935233</td>\n",
              "      <td>1.000000</td>\n",
              "      <td>-0.990778</td>\n",
              "      <td>0.721796</td>\n",
              "    </tr>\n",
              "    <tr>\n",
              "      <th>Compactness</th>\n",
              "      <td>-0.160438</td>\n",
              "      <td>-0.484440</td>\n",
              "      <td>-0.726958</td>\n",
              "      <td>0.603441</td>\n",
              "      <td>-0.160432</td>\n",
              "      <td>-0.156411</td>\n",
              "      <td>-0.981689</td>\n",
              "      <td>-0.019967</td>\n",
              "      <td>0.336984</td>\n",
              "      <td>0.933308</td>\n",
              "      <td>-0.990778</td>\n",
              "      <td>1.000000</td>\n",
              "      <td>-0.726676</td>\n",
              "    </tr>\n",
              "    <tr>\n",
              "      <th>Class</th>\n",
              "      <td>0.170280</td>\n",
              "      <td>0.388345</td>\n",
              "      <td>0.561458</td>\n",
              "      <td>-0.401362</td>\n",
              "      <td>0.168029</td>\n",
              "      <td>0.160303</td>\n",
              "      <td>0.699319</td>\n",
              "      <td>0.122674</td>\n",
              "      <td>-0.236076</td>\n",
              "      <td>-0.669514</td>\n",
              "      <td>0.721796</td>\n",
              "      <td>-0.726676</td>\n",
              "      <td>1.000000</td>\n",
              "    </tr>\n",
              "  </tbody>\n",
              "</table>\n",
              "</div>\n",
              "      <button class=\"colab-df-convert\" onclick=\"convertToInteractive('df-9fa8eb8c-5de5-4981-a5f5-603e37ee45fe')\"\n",
              "              title=\"Convert this dataframe to an interactive table.\"\n",
              "              style=\"display:none;\">\n",
              "        \n",
              "  <svg xmlns=\"http://www.w3.org/2000/svg\" height=\"24px\"viewBox=\"0 0 24 24\"\n",
              "       width=\"24px\">\n",
              "    <path d=\"M0 0h24v24H0V0z\" fill=\"none\"/>\n",
              "    <path d=\"M18.56 5.44l.94 2.06.94-2.06 2.06-.94-2.06-.94-.94-2.06-.94 2.06-2.06.94zm-11 1L8.5 8.5l.94-2.06 2.06-.94-2.06-.94L8.5 2.5l-.94 2.06-2.06.94zm10 10l.94 2.06.94-2.06 2.06-.94-2.06-.94-.94-2.06-.94 2.06-2.06.94z\"/><path d=\"M17.41 7.96l-1.37-1.37c-.4-.4-.92-.59-1.43-.59-.52 0-1.04.2-1.43.59L10.3 9.45l-7.72 7.72c-.78.78-.78 2.05 0 2.83L4 21.41c.39.39.9.59 1.41.59.51 0 1.02-.2 1.41-.59l7.78-7.78 2.81-2.81c.8-.78.8-2.07 0-2.86zM5.41 20L4 18.59l7.72-7.72 1.47 1.35L5.41 20z\"/>\n",
              "  </svg>\n",
              "      </button>\n",
              "      \n",
              "  <style>\n",
              "    .colab-df-container {\n",
              "      display:flex;\n",
              "      flex-wrap:wrap;\n",
              "      gap: 12px;\n",
              "    }\n",
              "\n",
              "    .colab-df-convert {\n",
              "      background-color: #E8F0FE;\n",
              "      border: none;\n",
              "      border-radius: 50%;\n",
              "      cursor: pointer;\n",
              "      display: none;\n",
              "      fill: #1967D2;\n",
              "      height: 32px;\n",
              "      padding: 0 0 0 0;\n",
              "      width: 32px;\n",
              "    }\n",
              "\n",
              "    .colab-df-convert:hover {\n",
              "      background-color: #E2EBFA;\n",
              "      box-shadow: 0px 1px 2px rgba(60, 64, 67, 0.3), 0px 1px 3px 1px rgba(60, 64, 67, 0.15);\n",
              "      fill: #174EA6;\n",
              "    }\n",
              "\n",
              "    [theme=dark] .colab-df-convert {\n",
              "      background-color: #3B4455;\n",
              "      fill: #D2E3FC;\n",
              "    }\n",
              "\n",
              "    [theme=dark] .colab-df-convert:hover {\n",
              "      background-color: #434B5C;\n",
              "      box-shadow: 0px 1px 3px 1px rgba(0, 0, 0, 0.15);\n",
              "      filter: drop-shadow(0px 1px 2px rgba(0, 0, 0, 0.3));\n",
              "      fill: #FFFFFF;\n",
              "    }\n",
              "  </style>\n",
              "\n",
              "      <script>\n",
              "        const buttonEl =\n",
              "          document.querySelector('#df-9fa8eb8c-5de5-4981-a5f5-603e37ee45fe button.colab-df-convert');\n",
              "        buttonEl.style.display =\n",
              "          google.colab.kernel.accessAllowed ? 'block' : 'none';\n",
              "\n",
              "        async function convertToInteractive(key) {\n",
              "          const element = document.querySelector('#df-9fa8eb8c-5de5-4981-a5f5-603e37ee45fe');\n",
              "          const dataTable =\n",
              "            await google.colab.kernel.invokeFunction('convertToInteractive',\n",
              "                                                     [key], {});\n",
              "          if (!dataTable) return;\n",
              "\n",
              "          const docLinkHtml = 'Like what you see? Visit the ' +\n",
              "            '<a target=\"_blank\" href=https://colab.research.google.com/notebooks/data_table.ipynb>data table notebook</a>'\n",
              "            + ' to learn more about interactive tables.';\n",
              "          element.innerHTML = '';\n",
              "          dataTable['output_type'] = 'display_data';\n",
              "          await google.colab.output.renderOutput(dataTable, element);\n",
              "          const docLink = document.createElement('div');\n",
              "          docLink.innerHTML = docLinkHtml;\n",
              "          element.appendChild(docLink);\n",
              "        }\n",
              "      </script>\n",
              "    </div>\n",
              "  </div>\n",
              "  "
            ]
          },
          "metadata": {},
          "execution_count": 7
        }
      ]
    },
    {
      "cell_type": "code",
      "source": [
        "Pumpkin_Seeds_dataset_2 = Pumpkin_Seeds_Dataset.drop([\"Area\", \"Perimeter\",\"Convex_Area\",\"Roundness\",\"Aspect_Ration\"], axis = 1)"
      ],
      "metadata": {
        "id": "c6HpUZoLMqbi"
      },
      "execution_count": null,
      "outputs": []
    },
    {
      "cell_type": "code",
      "source": [
        "Pumpkin_Seeds_dataset_2.corr()"
      ],
      "metadata": {
        "colab": {
          "base_uri": "https://localhost:8080/",
          "height": 300
        },
        "id": "RvXZX2xGSjYY",
        "outputId": "29e2849b-4c76-49f2-f572-f71b8888ace2"
      },
      "execution_count": null,
      "outputs": [
        {
          "output_type": "execute_result",
          "data": {
            "text/plain": [
              "                   Major_Axis_Length  Minor_Axis_Length  Equiv_Diameter  \\\n",
              "Major_Axis_Length           1.000000           0.099376        0.787078   \n",
              "Minor_Axis_Length           0.099376           1.000000        0.690020   \n",
              "Equiv_Diameter              0.787078           0.690020        1.000000   \n",
              "Eccentricity                0.704287          -0.590877        0.156246   \n",
              "Solidity                    0.119291           0.090915        0.159454   \n",
              "Extent                     -0.214990           0.233576       -0.010970   \n",
              "Compactness                -0.726958           0.603441       -0.156411   \n",
              "Class                       0.561458          -0.401362        0.160303   \n",
              "\n",
              "                   Eccentricity  Solidity    Extent  Compactness     Class  \n",
              "Major_Axis_Length      0.704287  0.119291 -0.214990    -0.726958  0.561458  \n",
              "Minor_Axis_Length     -0.590877  0.090915  0.233576     0.603441 -0.401362  \n",
              "Equiv_Diameter         0.156246  0.159454 -0.010970    -0.156411  0.160303  \n",
              "Eccentricity           1.000000  0.043991 -0.327316    -0.981689  0.699319  \n",
              "Solidity               0.043991  1.000000  0.067537    -0.019967  0.122674  \n",
              "Extent                -0.327316  0.067537  1.000000     0.336984 -0.236076  \n",
              "Compactness           -0.981689 -0.019967  0.336984     1.000000 -0.726676  \n",
              "Class                  0.699319  0.122674 -0.236076    -0.726676  1.000000  "
            ],
            "text/html": [
              "\n",
              "  <div id=\"df-69481665-60f3-41a4-938f-6d7080afd4f7\">\n",
              "    <div class=\"colab-df-container\">\n",
              "      <div>\n",
              "<style scoped>\n",
              "    .dataframe tbody tr th:only-of-type {\n",
              "        vertical-align: middle;\n",
              "    }\n",
              "\n",
              "    .dataframe tbody tr th {\n",
              "        vertical-align: top;\n",
              "    }\n",
              "\n",
              "    .dataframe thead th {\n",
              "        text-align: right;\n",
              "    }\n",
              "</style>\n",
              "<table border=\"1\" class=\"dataframe\">\n",
              "  <thead>\n",
              "    <tr style=\"text-align: right;\">\n",
              "      <th></th>\n",
              "      <th>Major_Axis_Length</th>\n",
              "      <th>Minor_Axis_Length</th>\n",
              "      <th>Equiv_Diameter</th>\n",
              "      <th>Eccentricity</th>\n",
              "      <th>Solidity</th>\n",
              "      <th>Extent</th>\n",
              "      <th>Compactness</th>\n",
              "      <th>Class</th>\n",
              "    </tr>\n",
              "  </thead>\n",
              "  <tbody>\n",
              "    <tr>\n",
              "      <th>Major_Axis_Length</th>\n",
              "      <td>1.000000</td>\n",
              "      <td>0.099376</td>\n",
              "      <td>0.787078</td>\n",
              "      <td>0.704287</td>\n",
              "      <td>0.119291</td>\n",
              "      <td>-0.214990</td>\n",
              "      <td>-0.726958</td>\n",
              "      <td>0.561458</td>\n",
              "    </tr>\n",
              "    <tr>\n",
              "      <th>Minor_Axis_Length</th>\n",
              "      <td>0.099376</td>\n",
              "      <td>1.000000</td>\n",
              "      <td>0.690020</td>\n",
              "      <td>-0.590877</td>\n",
              "      <td>0.090915</td>\n",
              "      <td>0.233576</td>\n",
              "      <td>0.603441</td>\n",
              "      <td>-0.401362</td>\n",
              "    </tr>\n",
              "    <tr>\n",
              "      <th>Equiv_Diameter</th>\n",
              "      <td>0.787078</td>\n",
              "      <td>0.690020</td>\n",
              "      <td>1.000000</td>\n",
              "      <td>0.156246</td>\n",
              "      <td>0.159454</td>\n",
              "      <td>-0.010970</td>\n",
              "      <td>-0.156411</td>\n",
              "      <td>0.160303</td>\n",
              "    </tr>\n",
              "    <tr>\n",
              "      <th>Eccentricity</th>\n",
              "      <td>0.704287</td>\n",
              "      <td>-0.590877</td>\n",
              "      <td>0.156246</td>\n",
              "      <td>1.000000</td>\n",
              "      <td>0.043991</td>\n",
              "      <td>-0.327316</td>\n",
              "      <td>-0.981689</td>\n",
              "      <td>0.699319</td>\n",
              "    </tr>\n",
              "    <tr>\n",
              "      <th>Solidity</th>\n",
              "      <td>0.119291</td>\n",
              "      <td>0.090915</td>\n",
              "      <td>0.159454</td>\n",
              "      <td>0.043991</td>\n",
              "      <td>1.000000</td>\n",
              "      <td>0.067537</td>\n",
              "      <td>-0.019967</td>\n",
              "      <td>0.122674</td>\n",
              "    </tr>\n",
              "    <tr>\n",
              "      <th>Extent</th>\n",
              "      <td>-0.214990</td>\n",
              "      <td>0.233576</td>\n",
              "      <td>-0.010970</td>\n",
              "      <td>-0.327316</td>\n",
              "      <td>0.067537</td>\n",
              "      <td>1.000000</td>\n",
              "      <td>0.336984</td>\n",
              "      <td>-0.236076</td>\n",
              "    </tr>\n",
              "    <tr>\n",
              "      <th>Compactness</th>\n",
              "      <td>-0.726958</td>\n",
              "      <td>0.603441</td>\n",
              "      <td>-0.156411</td>\n",
              "      <td>-0.981689</td>\n",
              "      <td>-0.019967</td>\n",
              "      <td>0.336984</td>\n",
              "      <td>1.000000</td>\n",
              "      <td>-0.726676</td>\n",
              "    </tr>\n",
              "    <tr>\n",
              "      <th>Class</th>\n",
              "      <td>0.561458</td>\n",
              "      <td>-0.401362</td>\n",
              "      <td>0.160303</td>\n",
              "      <td>0.699319</td>\n",
              "      <td>0.122674</td>\n",
              "      <td>-0.236076</td>\n",
              "      <td>-0.726676</td>\n",
              "      <td>1.000000</td>\n",
              "    </tr>\n",
              "  </tbody>\n",
              "</table>\n",
              "</div>\n",
              "      <button class=\"colab-df-convert\" onclick=\"convertToInteractive('df-69481665-60f3-41a4-938f-6d7080afd4f7')\"\n",
              "              title=\"Convert this dataframe to an interactive table.\"\n",
              "              style=\"display:none;\">\n",
              "        \n",
              "  <svg xmlns=\"http://www.w3.org/2000/svg\" height=\"24px\"viewBox=\"0 0 24 24\"\n",
              "       width=\"24px\">\n",
              "    <path d=\"M0 0h24v24H0V0z\" fill=\"none\"/>\n",
              "    <path d=\"M18.56 5.44l.94 2.06.94-2.06 2.06-.94-2.06-.94-.94-2.06-.94 2.06-2.06.94zm-11 1L8.5 8.5l.94-2.06 2.06-.94-2.06-.94L8.5 2.5l-.94 2.06-2.06.94zm10 10l.94 2.06.94-2.06 2.06-.94-2.06-.94-.94-2.06-.94 2.06-2.06.94z\"/><path d=\"M17.41 7.96l-1.37-1.37c-.4-.4-.92-.59-1.43-.59-.52 0-1.04.2-1.43.59L10.3 9.45l-7.72 7.72c-.78.78-.78 2.05 0 2.83L4 21.41c.39.39.9.59 1.41.59.51 0 1.02-.2 1.41-.59l7.78-7.78 2.81-2.81c.8-.78.8-2.07 0-2.86zM5.41 20L4 18.59l7.72-7.72 1.47 1.35L5.41 20z\"/>\n",
              "  </svg>\n",
              "      </button>\n",
              "      \n",
              "  <style>\n",
              "    .colab-df-container {\n",
              "      display:flex;\n",
              "      flex-wrap:wrap;\n",
              "      gap: 12px;\n",
              "    }\n",
              "\n",
              "    .colab-df-convert {\n",
              "      background-color: #E8F0FE;\n",
              "      border: none;\n",
              "      border-radius: 50%;\n",
              "      cursor: pointer;\n",
              "      display: none;\n",
              "      fill: #1967D2;\n",
              "      height: 32px;\n",
              "      padding: 0 0 0 0;\n",
              "      width: 32px;\n",
              "    }\n",
              "\n",
              "    .colab-df-convert:hover {\n",
              "      background-color: #E2EBFA;\n",
              "      box-shadow: 0px 1px 2px rgba(60, 64, 67, 0.3), 0px 1px 3px 1px rgba(60, 64, 67, 0.15);\n",
              "      fill: #174EA6;\n",
              "    }\n",
              "\n",
              "    [theme=dark] .colab-df-convert {\n",
              "      background-color: #3B4455;\n",
              "      fill: #D2E3FC;\n",
              "    }\n",
              "\n",
              "    [theme=dark] .colab-df-convert:hover {\n",
              "      background-color: #434B5C;\n",
              "      box-shadow: 0px 1px 3px 1px rgba(0, 0, 0, 0.15);\n",
              "      filter: drop-shadow(0px 1px 2px rgba(0, 0, 0, 0.3));\n",
              "      fill: #FFFFFF;\n",
              "    }\n",
              "  </style>\n",
              "\n",
              "      <script>\n",
              "        const buttonEl =\n",
              "          document.querySelector('#df-69481665-60f3-41a4-938f-6d7080afd4f7 button.colab-df-convert');\n",
              "        buttonEl.style.display =\n",
              "          google.colab.kernel.accessAllowed ? 'block' : 'none';\n",
              "\n",
              "        async function convertToInteractive(key) {\n",
              "          const element = document.querySelector('#df-69481665-60f3-41a4-938f-6d7080afd4f7');\n",
              "          const dataTable =\n",
              "            await google.colab.kernel.invokeFunction('convertToInteractive',\n",
              "                                                     [key], {});\n",
              "          if (!dataTable) return;\n",
              "\n",
              "          const docLinkHtml = 'Like what you see? Visit the ' +\n",
              "            '<a target=\"_blank\" href=https://colab.research.google.com/notebooks/data_table.ipynb>data table notebook</a>'\n",
              "            + ' to learn more about interactive tables.';\n",
              "          element.innerHTML = '';\n",
              "          dataTable['output_type'] = 'display_data';\n",
              "          await google.colab.output.renderOutput(dataTable, element);\n",
              "          const docLink = document.createElement('div');\n",
              "          docLink.innerHTML = docLinkHtml;\n",
              "          element.appendChild(docLink);\n",
              "        }\n",
              "      </script>\n",
              "    </div>\n",
              "  </div>\n",
              "  "
            ]
          },
          "metadata": {},
          "execution_count": 9
        }
      ]
    },
    {
      "cell_type": "code",
      "source": [
        "Pumpkin_Seeds_dataset_2.shape"
      ],
      "metadata": {
        "colab": {
          "base_uri": "https://localhost:8080/"
        },
        "id": "Yz89Z50qYcQy",
        "outputId": "9efd0830-843a-42d2-e266-70b108db93af"
      },
      "execution_count": null,
      "outputs": [
        {
          "output_type": "execute_result",
          "data": {
            "text/plain": [
              "(2500, 8)"
            ]
          },
          "metadata": {},
          "execution_count": 10
        }
      ]
    },
    {
      "cell_type": "code",
      "source": [
        "%matplotlib inline\n",
        "import matplotlib.pyplot as plt\n",
        "import seaborn as sns"
      ],
      "metadata": {
        "id": "Z-Rp_0i9LPqK"
      },
      "execution_count": null,
      "outputs": []
    },
    {
      "cell_type": "code",
      "source": [
        "from sklearn.model_selection import train_test_split"
      ],
      "metadata": {
        "id": "SOJnbG-zWXLN"
      },
      "execution_count": null,
      "outputs": []
    },
    {
      "cell_type": "code",
      "source": [
        "y = Pumpkin_Seeds_dataset_2[\"Class\"]"
      ],
      "metadata": {
        "id": "Uyxs96X6ZhxF"
      },
      "execution_count": null,
      "outputs": []
    },
    {
      "cell_type": "code",
      "source": [
        "x = Pumpkin_Seeds_dataset_2[[\"Major_Axis_Length\",\"Minor_Axis_Length\",\"Equiv_Diameter\",\"Eccentricity\",\"Solidity\",\"Extent\",\"Compactness\"]]"
      ],
      "metadata": {
        "id": "ub-9wpx6Zjk7"
      },
      "execution_count": null,
      "outputs": []
    },
    {
      "cell_type": "code",
      "source": [
        "x_train, x_test, y_train, y_test = train_test_split(x,y, test_size = 0.20)"
      ],
      "metadata": {
        "id": "6O9egssAZj9q"
      },
      "execution_count": null,
      "outputs": []
    },
    {
      "cell_type": "code",
      "source": [
        "x_train.shape"
      ],
      "metadata": {
        "colab": {
          "base_uri": "https://localhost:8080/"
        },
        "id": "KghhWZdPap7W",
        "outputId": "0800ed3d-0564-4cd8-d982-41c17cf4e360"
      },
      "execution_count": null,
      "outputs": [
        {
          "output_type": "execute_result",
          "data": {
            "text/plain": [
              "(2000, 7)"
            ]
          },
          "metadata": {},
          "execution_count": 16
        }
      ]
    },
    {
      "cell_type": "code",
      "source": [
        "y_test.shape"
      ],
      "metadata": {
        "colab": {
          "base_uri": "https://localhost:8080/"
        },
        "id": "TwrqzZp3auOT",
        "outputId": "021938a3-851b-40b7-ba04-13ea4d9aff9a"
      },
      "execution_count": null,
      "outputs": [
        {
          "output_type": "execute_result",
          "data": {
            "text/plain": [
              "(500,)"
            ]
          },
          "metadata": {},
          "execution_count": 17
        }
      ]
    },
    {
      "cell_type": "code",
      "source": [
        "x_test.shape"
      ],
      "metadata": {
        "colab": {
          "base_uri": "https://localhost:8080/"
        },
        "id": "6DQPjgc1azyz",
        "outputId": "dc19dcef-fa28-4feb-f20f-78f17971a1a6"
      },
      "execution_count": null,
      "outputs": [
        {
          "output_type": "execute_result",
          "data": {
            "text/plain": [
              "(500, 7)"
            ]
          },
          "metadata": {},
          "execution_count": 18
        }
      ]
    },
    {
      "cell_type": "code",
      "source": [
        "# Random Forest Model Building"
      ],
      "metadata": {
        "id": "szbIuuHga5_D"
      },
      "execution_count": null,
      "outputs": []
    },
    {
      "cell_type": "code",
      "source": [
        "import sklearn.ensemble"
      ],
      "metadata": {
        "id": "sXkw_dT5UnIz"
      },
      "execution_count": null,
      "outputs": []
    },
    {
      "cell_type": "code",
      "source": [
        "from sklearn.ensemble import RandomForestClassifier\n",
        "from sklearn.metrics import accuracy_score, confusion_matrix, precision_score, recall_score, ConfusionMatrixDisplay\n",
        "from sklearn.model_selection import RandomizedSearchCV, train_test_split\n",
        "from scipy.stats import randint\n",
        "from sklearn.metrics import f1_score, confusion_matrix, classification_report\n",
        "import numpy as np"
      ],
      "metadata": {
        "id": "Q4TTxGumb5gH"
      },
      "execution_count": null,
      "outputs": []
    },
    {
      "cell_type": "code",
      "source": [
        "Pumpkin_Seeds_dataset_model = RandomForestClassifier(criterion='gini', n_estimators=5000, random_state=1, n_jobs=2)"
      ],
      "metadata": {
        "id": "LDhX0t9YpZ9w"
      },
      "execution_count": null,
      "outputs": []
    },
    {
      "cell_type": "code",
      "source": [
        "Pumpkin_Seeds_dataset_model = RandomForestClassifier()"
      ],
      "metadata": {
        "id": "3EL8IiiGup6n"
      },
      "execution_count": null,
      "outputs": []
    },
    {
      "cell_type": "code",
      "source": [
        "Pumpkin_Seeds_dataset_model.fit( x_train, y_train )"
      ],
      "metadata": {
        "colab": {
          "base_uri": "https://localhost:8080/",
          "height": 74
        },
        "id": "F-jarc1xWuxV",
        "outputId": "97571662-3626-462a-ed35-6276be63e3c7"
      },
      "execution_count": null,
      "outputs": [
        {
          "output_type": "execute_result",
          "data": {
            "text/plain": [
              "RandomForestClassifier()"
            ],
            "text/html": [
              "<style>#sk-container-id-1 {color: black;background-color: white;}#sk-container-id-1 pre{padding: 0;}#sk-container-id-1 div.sk-toggleable {background-color: white;}#sk-container-id-1 label.sk-toggleable__label {cursor: pointer;display: block;width: 100%;margin-bottom: 0;padding: 0.3em;box-sizing: border-box;text-align: center;}#sk-container-id-1 label.sk-toggleable__label-arrow:before {content: \"▸\";float: left;margin-right: 0.25em;color: #696969;}#sk-container-id-1 label.sk-toggleable__label-arrow:hover:before {color: black;}#sk-container-id-1 div.sk-estimator:hover label.sk-toggleable__label-arrow:before {color: black;}#sk-container-id-1 div.sk-toggleable__content {max-height: 0;max-width: 0;overflow: hidden;text-align: left;background-color: #f0f8ff;}#sk-container-id-1 div.sk-toggleable__content pre {margin: 0.2em;color: black;border-radius: 0.25em;background-color: #f0f8ff;}#sk-container-id-1 input.sk-toggleable__control:checked~div.sk-toggleable__content {max-height: 200px;max-width: 100%;overflow: auto;}#sk-container-id-1 input.sk-toggleable__control:checked~label.sk-toggleable__label-arrow:before {content: \"▾\";}#sk-container-id-1 div.sk-estimator input.sk-toggleable__control:checked~label.sk-toggleable__label {background-color: #d4ebff;}#sk-container-id-1 div.sk-label input.sk-toggleable__control:checked~label.sk-toggleable__label {background-color: #d4ebff;}#sk-container-id-1 input.sk-hidden--visually {border: 0;clip: rect(1px 1px 1px 1px);clip: rect(1px, 1px, 1px, 1px);height: 1px;margin: -1px;overflow: hidden;padding: 0;position: absolute;width: 1px;}#sk-container-id-1 div.sk-estimator {font-family: monospace;background-color: #f0f8ff;border: 1px dotted black;border-radius: 0.25em;box-sizing: border-box;margin-bottom: 0.5em;}#sk-container-id-1 div.sk-estimator:hover {background-color: #d4ebff;}#sk-container-id-1 div.sk-parallel-item::after {content: \"\";width: 100%;border-bottom: 1px solid gray;flex-grow: 1;}#sk-container-id-1 div.sk-label:hover label.sk-toggleable__label {background-color: #d4ebff;}#sk-container-id-1 div.sk-serial::before {content: \"\";position: absolute;border-left: 1px solid gray;box-sizing: border-box;top: 0;bottom: 0;left: 50%;z-index: 0;}#sk-container-id-1 div.sk-serial {display: flex;flex-direction: column;align-items: center;background-color: white;padding-right: 0.2em;padding-left: 0.2em;position: relative;}#sk-container-id-1 div.sk-item {position: relative;z-index: 1;}#sk-container-id-1 div.sk-parallel {display: flex;align-items: stretch;justify-content: center;background-color: white;position: relative;}#sk-container-id-1 div.sk-item::before, #sk-container-id-1 div.sk-parallel-item::before {content: \"\";position: absolute;border-left: 1px solid gray;box-sizing: border-box;top: 0;bottom: 0;left: 50%;z-index: -1;}#sk-container-id-1 div.sk-parallel-item {display: flex;flex-direction: column;z-index: 1;position: relative;background-color: white;}#sk-container-id-1 div.sk-parallel-item:first-child::after {align-self: flex-end;width: 50%;}#sk-container-id-1 div.sk-parallel-item:last-child::after {align-self: flex-start;width: 50%;}#sk-container-id-1 div.sk-parallel-item:only-child::after {width: 0;}#sk-container-id-1 div.sk-dashed-wrapped {border: 1px dashed gray;margin: 0 0.4em 0.5em 0.4em;box-sizing: border-box;padding-bottom: 0.4em;background-color: white;}#sk-container-id-1 div.sk-label label {font-family: monospace;font-weight: bold;display: inline-block;line-height: 1.2em;}#sk-container-id-1 div.sk-label-container {text-align: center;}#sk-container-id-1 div.sk-container {/* jupyter's `normalize.less` sets `[hidden] { display: none; }` but bootstrap.min.css set `[hidden] { display: none !important; }` so we also need the `!important` here to be able to override the default hidden behavior on the sphinx rendered scikit-learn.org. See: https://github.com/scikit-learn/scikit-learn/issues/21755 */display: inline-block !important;position: relative;}#sk-container-id-1 div.sk-text-repr-fallback {display: none;}</style><div id=\"sk-container-id-1\" class=\"sk-top-container\"><div class=\"sk-text-repr-fallback\"><pre>RandomForestClassifier()</pre><b>In a Jupyter environment, please rerun this cell to show the HTML representation or trust the notebook. <br />On GitHub, the HTML representation is unable to render, please try loading this page with nbviewer.org.</b></div><div class=\"sk-container\" hidden><div class=\"sk-item\"><div class=\"sk-estimator sk-toggleable\"><input class=\"sk-toggleable__control sk-hidden--visually\" id=\"sk-estimator-id-1\" type=\"checkbox\" checked><label for=\"sk-estimator-id-1\" class=\"sk-toggleable__label sk-toggleable__label-arrow\">RandomForestClassifier</label><div class=\"sk-toggleable__content\"><pre>RandomForestClassifier()</pre></div></div></div></div></div>"
            ]
          },
          "metadata": {},
          "execution_count": 23
        }
      ]
    },
    {
      "cell_type": "code",
      "source": [
        "Pumpkin_Seeds_dataset_model_pred = Pumpkin_Seeds_dataset_model.predict(x_test)"
      ],
      "metadata": {
        "id": "pl4Q6qvqWukq"
      },
      "execution_count": null,
      "outputs": []
    },
    {
      "cell_type": "code",
      "source": [
        "y_pred = np.where(Pumpkin_Seeds_dataset_model_pred > 0.50, 1, 0)\n",
        "print(y_pred)"
      ],
      "metadata": {
        "id": "DhYHyGeSq48J",
        "colab": {
          "base_uri": "https://localhost:8080/"
        },
        "outputId": "d4d1079d-bd3d-4afd-82d7-c6e6a515ca47"
      },
      "execution_count": null,
      "outputs": [
        {
          "output_type": "stream",
          "name": "stdout",
          "text": [
            "[0 0 1 1 0 0 1 1 1 1 0 0 0 0 1 0 1 0 1 0 1 1 1 1 0 1 0 0 1 1 1 0 0 1 1 1 0\n",
            " 1 1 0 0 1 1 1 1 0 0 0 0 1 1 0 1 0 1 0 1 1 1 0 1 0 0 0 0 0 1 1 0 0 0 0 0 0\n",
            " 0 1 1 0 1 1 1 1 0 1 1 0 1 1 1 0 0 0 1 0 1 1 1 0 0 1 0 0 1 1 1 0 0 0 1 1 0\n",
            " 1 1 0 1 1 0 1 1 1 1 0 0 1 0 0 1 1 1 1 1 0 1 0 1 0 0 0 0 1 0 1 0 0 1 1 0 1\n",
            " 0 1 1 1 1 0 0 0 1 1 0 0 1 0 1 1 0 1 1 1 0 1 0 1 1 1 0 0 1 0 0 1 1 0 1 0 0\n",
            " 1 0 1 1 1 0 1 0 0 0 0 0 0 1 1 1 0 1 0 0 1 0 1 0 1 1 0 0 1 0 1 0 1 1 1 0 0\n",
            " 0 0 0 1 1 0 0 0 0 1 1 0 1 0 0 1 0 0 1 0 0 1 0 0 1 1 0 0 1 0 1 0 0 0 0 1 0\n",
            " 1 0 1 0 0 0 0 0 0 1 1 1 1 1 0 1 1 1 0 1 1 0 0 0 1 1 0 1 0 1 0 1 1 1 0 0 0\n",
            " 1 0 0 0 0 0 1 0 0 1 1 0 1 1 0 1 0 1 0 1 1 1 1 0 0 1 0 1 0 1 0 1 0 0 0 0 0\n",
            " 0 0 1 1 0 1 1 1 0 0 1 1 1 0 0 1 0 0 1 1 1 0 0 0 0 1 0 1 0 1 0 1 0 1 1 1 0\n",
            " 0 1 0 1 1 1 1 0 0 1 0 0 0 0 1 0 0 0 0 0 0 0 1 0 0 1 1 1 0 0 1 0 0 0 0 1 0\n",
            " 1 1 1 0 0 0 0 0 1 0 0 0 0 0 0 1 1 0 1 1 0 0 0 1 1 1 0 0 1 1 0 0 1 0 0 0 0\n",
            " 1 1 0 1 1 0 1 1 0 0 0 0 0 0 1 0 1 1 0 1 0 0 0 1 1 0 0 1 1 1 0 1 0 0 0 0 1\n",
            " 0 1 1 0 0 0 1 0 0 1 1 0 0 0 0 1 0 0 0]\n"
          ]
        }
      ]
    },
    {
      "cell_type": "code",
      "source": [
        "print('Accuracy: %.3f' % accuracy_score(y_test, y_pred))"
      ],
      "metadata": {
        "colab": {
          "base_uri": "https://localhost:8080/"
        },
        "id": "5uhyIGTIqH_v",
        "outputId": "de17d0f9-f61f-458b-8cb3-b327f74963a0"
      },
      "execution_count": null,
      "outputs": [
        {
          "output_type": "stream",
          "name": "stdout",
          "text": [
            "Accuracy: 0.876\n"
          ]
        }
      ]
    },
    {
      "cell_type": "code",
      "source": [
        "print(confusion_matrix(y_test, y_pred))"
      ],
      "metadata": {
        "colab": {
          "base_uri": "https://localhost:8080/"
        },
        "id": "KM_SJrM0qLrp",
        "outputId": "d1ade3e7-d48d-4263-fff2-aa9d6032bb7b"
      },
      "execution_count": null,
      "outputs": [
        {
          "output_type": "stream",
          "name": "stdout",
          "text": [
            "[[228  23]\n",
            " [ 39 210]]\n"
          ]
        }
      ]
    },
    {
      "cell_type": "code",
      "source": [
        "print(classification_report(y_test, y_pred))"
      ],
      "metadata": {
        "colab": {
          "base_uri": "https://localhost:8080/"
        },
        "id": "j30jPq5nqLen",
        "outputId": "a989be4e-cce5-4d6c-9cb4-5c3638302a2f"
      },
      "execution_count": null,
      "outputs": [
        {
          "output_type": "stream",
          "name": "stdout",
          "text": [
            "              precision    recall  f1-score   support\n",
            "\n",
            "           0       0.85      0.91      0.88       251\n",
            "           1       0.90      0.84      0.87       249\n",
            "\n",
            "    accuracy                           0.88       500\n",
            "   macro avg       0.88      0.88      0.88       500\n",
            "weighted avg       0.88      0.88      0.88       500\n",
            "\n"
          ]
        }
      ]
    },
    {
      "cell_type": "code",
      "source": [
        "from sklearn.tree import export_graphviz\n",
        "from IPython.display import Image\n",
        "import graphviz"
      ],
      "metadata": {
        "id": "7v3ak9WdsBC2"
      },
      "execution_count": null,
      "outputs": []
    },
    {
      "cell_type": "code",
      "source": [
        "for i in range(3):\n",
        "    tree = Pumpkin_Seeds_dataset_model.estimators_[i]\n",
        "    Pumpkin_Seeds_data = export_graphviz(tree, feature_names=x_train.columns, filled=True, max_depth=2, impurity=False, proportion=True)\n",
        "    graph = graphviz.Source(Pumpkin_Seeds_data)\n",
        "    display(graph)"
      ],
      "metadata": {
        "id": "1-igXMBzsT1B",
        "colab": {
          "base_uri": "https://localhost:8080/",
          "height": 1000
        },
        "outputId": "4e7fedf9-fd60-41ff-a2c6-358d64317125"
      },
      "execution_count": null,
      "outputs": [
        {
          "output_type": "display_data",
          "data": {
            "image/svg+xml": "<?xml version=\"1.0\" encoding=\"UTF-8\" standalone=\"no\"?>\n<!DOCTYPE svg PUBLIC \"-//W3C//DTD SVG 1.1//EN\"\n \"http://www.w3.org/Graphics/SVG/1.1/DTD/svg11.dtd\">\n<!-- Generated by graphviz version 2.43.0 (0)\n -->\n<!-- Title: Tree Pages: 1 -->\n<svg width=\"760pt\" height=\"311pt\"\n viewBox=\"0.00 0.00 759.50 311.00\" xmlns=\"http://www.w3.org/2000/svg\" xmlns:xlink=\"http://www.w3.org/1999/xlink\">\n<g id=\"graph0\" class=\"graph\" transform=\"scale(1 1) rotate(0) translate(4 307)\">\n<title>Tree</title>\n<polygon fill=\"white\" stroke=\"transparent\" points=\"-4,4 -4,-307 755.5,-307 755.5,4 -4,4\"/>\n<!-- 0 -->\n<g id=\"node1\" class=\"node\">\n<title>0</title>\n<polygon fill=\"#fefaf6\" stroke=\"black\" points=\"486,-303 280,-303 280,-250 486,-250 486,-303\"/>\n<text text-anchor=\"middle\" x=\"383\" y=\"-287.8\" font-family=\"Helvetica,sans-Serif\" font-size=\"14.00\">Major_Axis_Length &lt;= 485.894</text>\n<text text-anchor=\"middle\" x=\"383\" y=\"-272.8\" font-family=\"Helvetica,sans-Serif\" font-size=\"14.00\">samples = 100.0%</text>\n<text text-anchor=\"middle\" x=\"383\" y=\"-257.8\" font-family=\"Helvetica,sans-Serif\" font-size=\"14.00\">value = [0.511, 0.489]</text>\n</g>\n<!-- 1 -->\n<g id=\"node2\" class=\"node\">\n<title>1</title>\n<polygon fill=\"#f1bd97\" stroke=\"black\" points=\"386,-214 180,-214 180,-161 386,-161 386,-214\"/>\n<text text-anchor=\"middle\" x=\"283\" y=\"-198.8\" font-family=\"Helvetica,sans-Serif\" font-size=\"14.00\">Minor_Axis_Length &lt;= 203.675</text>\n<text text-anchor=\"middle\" x=\"283\" y=\"-183.8\" font-family=\"Helvetica,sans-Serif\" font-size=\"14.00\">samples = 71.4%</text>\n<text text-anchor=\"middle\" x=\"283\" y=\"-168.8\" font-family=\"Helvetica,sans-Serif\" font-size=\"14.00\">value = [0.678, 0.322]</text>\n</g>\n<!-- 0&#45;&gt;1 -->\n<g id=\"edge1\" class=\"edge\">\n<title>0&#45;&gt;1</title>\n<path fill=\"none\" stroke=\"black\" d=\"M353.54,-249.87C343.15,-240.83 331.34,-230.55 320.39,-221.03\"/>\n<polygon fill=\"black\" stroke=\"black\" points=\"322.44,-218.17 312.6,-214.25 317.84,-223.45 322.44,-218.17\"/>\n<text text-anchor=\"middle\" x=\"314.33\" y=\"-235.49\" font-family=\"Helvetica,sans-Serif\" font-size=\"14.00\">True</text>\n</g>\n<!-- 282 -->\n<g id=\"node9\" class=\"node\">\n<title>282</title>\n<polygon fill=\"#4da7e8\" stroke=\"black\" points=\"562,-214 404,-214 404,-161 562,-161 562,-214\"/>\n<text text-anchor=\"middle\" x=\"483\" y=\"-198.8\" font-family=\"Helvetica,sans-Serif\" font-size=\"14.00\">Compactness &lt;= 0.691</text>\n<text text-anchor=\"middle\" x=\"483\" y=\"-183.8\" font-family=\"Helvetica,sans-Serif\" font-size=\"14.00\">samples = 28.6%</text>\n<text text-anchor=\"middle\" x=\"483\" y=\"-168.8\" font-family=\"Helvetica,sans-Serif\" font-size=\"14.00\">value = [0.09, 0.91]</text>\n</g>\n<!-- 0&#45;&gt;282 -->\n<g id=\"edge8\" class=\"edge\">\n<title>0&#45;&gt;282</title>\n<path fill=\"none\" stroke=\"black\" d=\"M412.46,-249.87C422.85,-240.83 434.66,-230.55 445.61,-221.03\"/>\n<polygon fill=\"black\" stroke=\"black\" points=\"448.16,-223.45 453.4,-214.25 443.56,-218.17 448.16,-223.45\"/>\n<text text-anchor=\"middle\" x=\"451.67\" y=\"-235.49\" font-family=\"Helvetica,sans-Serif\" font-size=\"14.00\">False</text>\n</g>\n<!-- 2 -->\n<g id=\"node3\" class=\"node\">\n<title>2</title>\n<polygon fill=\"#4ba6e7\" stroke=\"black\" points=\"186,-125 0,-125 0,-72 186,-72 186,-125\"/>\n<text text-anchor=\"middle\" x=\"93\" y=\"-109.8\" font-family=\"Helvetica,sans-Serif\" font-size=\"14.00\">Equiv_Diameter &lt;= 292.684</text>\n<text text-anchor=\"middle\" x=\"93\" y=\"-94.8\" font-family=\"Helvetica,sans-Serif\" font-size=\"14.00\">samples = 12.3%</text>\n<text text-anchor=\"middle\" x=\"93\" y=\"-79.8\" font-family=\"Helvetica,sans-Serif\" font-size=\"14.00\">value = [0.083, 0.917]</text>\n</g>\n<!-- 1&#45;&gt;2 -->\n<g id=\"edge2\" class=\"edge\">\n<title>1&#45;&gt;2</title>\n<path fill=\"none\" stroke=\"black\" d=\"M227.28,-160.98C205.53,-151.03 180.44,-139.54 157.89,-129.21\"/>\n<polygon fill=\"black\" stroke=\"black\" points=\"159.27,-126 148.72,-125.01 156.36,-132.36 159.27,-126\"/>\n</g>\n<!-- 41 -->\n<g id=\"node6\" class=\"node\">\n<title>41</title>\n<polygon fill=\"#eca16b\" stroke=\"black\" points=\"362,-125 204,-125 204,-72 362,-72 362,-125\"/>\n<text text-anchor=\"middle\" x=\"283\" y=\"-109.8\" font-family=\"Helvetica,sans-Serif\" font-size=\"14.00\">Compactness &lt;= 0.708</text>\n<text text-anchor=\"middle\" x=\"283\" y=\"-94.8\" font-family=\"Helvetica,sans-Serif\" font-size=\"14.00\">samples = 59.1%</text>\n<text text-anchor=\"middle\" x=\"283\" y=\"-79.8\" font-family=\"Helvetica,sans-Serif\" font-size=\"14.00\">value = [0.798, 0.202]</text>\n</g>\n<!-- 1&#45;&gt;41 -->\n<g id=\"edge5\" class=\"edge\">\n<title>1&#45;&gt;41</title>\n<path fill=\"none\" stroke=\"black\" d=\"M283,-160.87C283,-152.89 283,-143.93 283,-135.38\"/>\n<polygon fill=\"black\" stroke=\"black\" points=\"286.5,-135.25 283,-125.25 279.5,-135.25 286.5,-135.25\"/>\n</g>\n<!-- 3 -->\n<g id=\"node4\" class=\"node\">\n<title>3</title>\n<polygon fill=\"#c0c0c0\" stroke=\"black\" points=\"84,-36 30,-36 30,0 84,0 84,-36\"/>\n<text text-anchor=\"middle\" x=\"57\" y=\"-14.3\" font-family=\"Helvetica,sans-Serif\" font-size=\"14.00\">(...)</text>\n</g>\n<!-- 2&#45;&gt;3 -->\n<g id=\"edge3\" class=\"edge\">\n<title>2&#45;&gt;3</title>\n<path fill=\"none\" stroke=\"black\" d=\"M81.21,-71.8C77.34,-63.35 73.03,-53.95 69.13,-45.45\"/>\n<polygon fill=\"black\" stroke=\"black\" points=\"72.3,-43.96 64.95,-36.33 65.93,-46.88 72.3,-43.96\"/>\n</g>\n<!-- 40 -->\n<g id=\"node5\" class=\"node\">\n<title>40</title>\n<polygon fill=\"#c0c0c0\" stroke=\"black\" points=\"156,-36 102,-36 102,0 156,0 156,-36\"/>\n<text text-anchor=\"middle\" x=\"129\" y=\"-14.3\" font-family=\"Helvetica,sans-Serif\" font-size=\"14.00\">(...)</text>\n</g>\n<!-- 2&#45;&gt;40 -->\n<g id=\"edge4\" class=\"edge\">\n<title>2&#45;&gt;40</title>\n<path fill=\"none\" stroke=\"black\" d=\"M104.79,-71.8C108.66,-63.35 112.97,-53.95 116.87,-45.45\"/>\n<polygon fill=\"black\" stroke=\"black\" points=\"120.07,-46.88 121.05,-36.33 113.7,-43.96 120.07,-46.88\"/>\n</g>\n<!-- 42 -->\n<g id=\"node7\" class=\"node\">\n<title>42</title>\n<polygon fill=\"#c0c0c0\" stroke=\"black\" points=\"288,-36 234,-36 234,0 288,0 288,-36\"/>\n<text text-anchor=\"middle\" x=\"261\" y=\"-14.3\" font-family=\"Helvetica,sans-Serif\" font-size=\"14.00\">(...)</text>\n</g>\n<!-- 41&#45;&gt;42 -->\n<g id=\"edge6\" class=\"edge\">\n<title>41&#45;&gt;42</title>\n<path fill=\"none\" stroke=\"black\" d=\"M275.8,-71.8C273.48,-63.53 270.91,-54.35 268.57,-46\"/>\n<polygon fill=\"black\" stroke=\"black\" points=\"271.93,-45.01 265.86,-36.33 265.19,-46.9 271.93,-45.01\"/>\n</g>\n<!-- 127 -->\n<g id=\"node8\" class=\"node\">\n<title>127</title>\n<polygon fill=\"#c0c0c0\" stroke=\"black\" points=\"360,-36 306,-36 306,0 360,0 360,-36\"/>\n<text text-anchor=\"middle\" x=\"333\" y=\"-14.3\" font-family=\"Helvetica,sans-Serif\" font-size=\"14.00\">(...)</text>\n</g>\n<!-- 41&#45;&gt;127 -->\n<g id=\"edge7\" class=\"edge\">\n<title>41&#45;&gt;127</title>\n<path fill=\"none\" stroke=\"black\" d=\"M299.37,-71.8C304.87,-63.17 311,-53.54 316.5,-44.9\"/>\n<polygon fill=\"black\" stroke=\"black\" points=\"319.54,-46.65 321.96,-36.33 313.64,-42.88 319.54,-46.65\"/>\n</g>\n<!-- 283 -->\n<g id=\"node10\" class=\"node\">\n<title>283</title>\n<polygon fill=\"#3d9fe6\" stroke=\"black\" points=\"586,-125 380,-125 380,-72 586,-72 586,-125\"/>\n<text text-anchor=\"middle\" x=\"483\" y=\"-109.8\" font-family=\"Helvetica,sans-Serif\" font-size=\"14.00\">Major_Axis_Length &lt;= 491.639</text>\n<text text-anchor=\"middle\" x=\"483\" y=\"-94.8\" font-family=\"Helvetica,sans-Serif\" font-size=\"14.00\">samples = 24.2%</text>\n<text text-anchor=\"middle\" x=\"483\" y=\"-79.8\" font-family=\"Helvetica,sans-Serif\" font-size=\"14.00\">value = [0.019, 0.981]</text>\n</g>\n<!-- 282&#45;&gt;283 -->\n<g id=\"edge9\" class=\"edge\">\n<title>282&#45;&gt;283</title>\n<path fill=\"none\" stroke=\"black\" d=\"M483,-160.87C483,-152.89 483,-143.93 483,-135.38\"/>\n<polygon fill=\"black\" stroke=\"black\" points=\"486.5,-135.25 483,-125.25 479.5,-135.25 486.5,-135.25\"/>\n</g>\n<!-- 312 -->\n<g id=\"node13\" class=\"node\">\n<title>312</title>\n<polygon fill=\"#e3f1fb\" stroke=\"black\" points=\"751.5,-125 604.5,-125 604.5,-72 751.5,-72 751.5,-125\"/>\n<text text-anchor=\"middle\" x=\"678\" y=\"-109.8\" font-family=\"Helvetica,sans-Serif\" font-size=\"14.00\">Eccentricity &lt;= 0.871</text>\n<text text-anchor=\"middle\" x=\"678\" y=\"-94.8\" font-family=\"Helvetica,sans-Serif\" font-size=\"14.00\">samples = 4.4%</text>\n<text text-anchor=\"middle\" x=\"678\" y=\"-79.8\" font-family=\"Helvetica,sans-Serif\" font-size=\"14.00\">value = [0.462, 0.538]</text>\n</g>\n<!-- 282&#45;&gt;312 -->\n<g id=\"edge12\" class=\"edge\">\n<title>282&#45;&gt;312</title>\n<path fill=\"none\" stroke=\"black\" d=\"M540.19,-160.98C562.51,-151.03 588.26,-139.54 611.41,-129.21\"/>\n<polygon fill=\"black\" stroke=\"black\" points=\"613.11,-132.29 620.81,-125.01 610.25,-125.89 613.11,-132.29\"/>\n</g>\n<!-- 284 -->\n<g id=\"node11\" class=\"node\">\n<title>284</title>\n<polygon fill=\"#c0c0c0\" stroke=\"black\" points=\"460,-36 406,-36 406,0 460,0 460,-36\"/>\n<text text-anchor=\"middle\" x=\"433\" y=\"-14.3\" font-family=\"Helvetica,sans-Serif\" font-size=\"14.00\">(...)</text>\n</g>\n<!-- 283&#45;&gt;284 -->\n<g id=\"edge10\" class=\"edge\">\n<title>283&#45;&gt;284</title>\n<path fill=\"none\" stroke=\"black\" d=\"M466.63,-71.8C461.13,-63.17 455,-53.54 449.5,-44.9\"/>\n<polygon fill=\"black\" stroke=\"black\" points=\"452.36,-42.88 444.04,-36.33 446.46,-46.65 452.36,-42.88\"/>\n</g>\n<!-- 291 -->\n<g id=\"node12\" class=\"node\">\n<title>291</title>\n<polygon fill=\"#c0c0c0\" stroke=\"black\" points=\"532,-36 478,-36 478,0 532,0 532,-36\"/>\n<text text-anchor=\"middle\" x=\"505\" y=\"-14.3\" font-family=\"Helvetica,sans-Serif\" font-size=\"14.00\">(...)</text>\n</g>\n<!-- 283&#45;&gt;291 -->\n<g id=\"edge11\" class=\"edge\">\n<title>283&#45;&gt;291</title>\n<path fill=\"none\" stroke=\"black\" d=\"M490.2,-71.8C492.52,-63.53 495.09,-54.35 497.43,-46\"/>\n<polygon fill=\"black\" stroke=\"black\" points=\"500.81,-46.9 500.14,-36.33 494.07,-45.01 500.81,-46.9\"/>\n</g>\n<!-- 313 -->\n<g id=\"node14\" class=\"node\">\n<title>313</title>\n<polygon fill=\"#c0c0c0\" stroke=\"black\" points=\"669,-36 615,-36 615,0 669,0 669,-36\"/>\n<text text-anchor=\"middle\" x=\"642\" y=\"-14.3\" font-family=\"Helvetica,sans-Serif\" font-size=\"14.00\">(...)</text>\n</g>\n<!-- 312&#45;&gt;313 -->\n<g id=\"edge13\" class=\"edge\">\n<title>312&#45;&gt;313</title>\n<path fill=\"none\" stroke=\"black\" d=\"M666.21,-71.8C662.34,-63.35 658.03,-53.95 654.13,-45.45\"/>\n<polygon fill=\"black\" stroke=\"black\" points=\"657.3,-43.96 649.95,-36.33 650.93,-46.88 657.3,-43.96\"/>\n</g>\n<!-- 332 -->\n<g id=\"node15\" class=\"node\">\n<title>332</title>\n<polygon fill=\"#c0c0c0\" stroke=\"black\" points=\"741,-36 687,-36 687,0 741,0 741,-36\"/>\n<text text-anchor=\"middle\" x=\"714\" y=\"-14.3\" font-family=\"Helvetica,sans-Serif\" font-size=\"14.00\">(...)</text>\n</g>\n<!-- 312&#45;&gt;332 -->\n<g id=\"edge14\" class=\"edge\">\n<title>312&#45;&gt;332</title>\n<path fill=\"none\" stroke=\"black\" d=\"M689.79,-71.8C693.66,-63.35 697.97,-53.95 701.87,-45.45\"/>\n<polygon fill=\"black\" stroke=\"black\" points=\"705.07,-46.88 706.05,-36.33 698.7,-43.96 705.07,-46.88\"/>\n</g>\n</g>\n</svg>\n",
            "text/plain": [
              "<graphviz.sources.Source at 0x7f013d8972e0>"
            ]
          },
          "metadata": {}
        },
        {
          "output_type": "display_data",
          "data": {
            "image/svg+xml": "<?xml version=\"1.0\" encoding=\"UTF-8\" standalone=\"no\"?>\n<!DOCTYPE svg PUBLIC \"-//W3C//DTD SVG 1.1//EN\"\n \"http://www.w3.org/Graphics/SVG/1.1/DTD/svg11.dtd\">\n<!-- Generated by graphviz version 2.43.0 (0)\n -->\n<!-- Title: Tree Pages: 1 -->\n<svg width=\"790pt\" height=\"311pt\"\n viewBox=\"0.00 0.00 790.00 311.00\" xmlns=\"http://www.w3.org/2000/svg\" xmlns:xlink=\"http://www.w3.org/1999/xlink\">\n<g id=\"graph0\" class=\"graph\" transform=\"scale(1 1) rotate(0) translate(4 307)\">\n<title>Tree</title>\n<polygon fill=\"white\" stroke=\"transparent\" points=\"-4,4 -4,-307 786,-307 786,4 -4,4\"/>\n<!-- 0 -->\n<g id=\"node1\" class=\"node\">\n<title>0</title>\n<polygon fill=\"#fcefe6\" stroke=\"black\" points=\"464.5,-303 317.5,-303 317.5,-250 464.5,-250 464.5,-303\"/>\n<text text-anchor=\"middle\" x=\"391\" y=\"-287.8\" font-family=\"Helvetica,sans-Serif\" font-size=\"14.00\">Extent &lt;= 0.628</text>\n<text text-anchor=\"middle\" x=\"391\" y=\"-272.8\" font-family=\"Helvetica,sans-Serif\" font-size=\"14.00\">samples = 100.0%</text>\n<text text-anchor=\"middle\" x=\"391\" y=\"-257.8\" font-family=\"Helvetica,sans-Serif\" font-size=\"14.00\">value = [0.533, 0.467]</text>\n</g>\n<!-- 1 -->\n<g id=\"node2\" class=\"node\">\n<title>1</title>\n<polygon fill=\"#5caeea\" stroke=\"black\" points=\"358,-214 200,-214 200,-161 358,-161 358,-214\"/>\n<text text-anchor=\"middle\" x=\"279\" y=\"-198.8\" font-family=\"Helvetica,sans-Serif\" font-size=\"14.00\">Compactness &lt;= 0.682</text>\n<text text-anchor=\"middle\" x=\"279\" y=\"-183.8\" font-family=\"Helvetica,sans-Serif\" font-size=\"14.00\">samples = 16.0%</text>\n<text text-anchor=\"middle\" x=\"279\" y=\"-168.8\" font-family=\"Helvetica,sans-Serif\" font-size=\"14.00\">value = [0.151, 0.849]</text>\n</g>\n<!-- 0&#45;&gt;1 -->\n<g id=\"edge1\" class=\"edge\">\n<title>0&#45;&gt;1</title>\n<path fill=\"none\" stroke=\"black\" d=\"M358,-249.87C346.15,-240.66 332.62,-230.15 320.16,-220.47\"/>\n<polygon fill=\"black\" stroke=\"black\" points=\"322.19,-217.62 312.15,-214.25 317.9,-223.15 322.19,-217.62\"/>\n<text text-anchor=\"middle\" x=\"315.27\" y=\"-235.35\" font-family=\"Helvetica,sans-Serif\" font-size=\"14.00\">True</text>\n</g>\n<!-- 64 -->\n<g id=\"node9\" class=\"node\">\n<title>64</title>\n<polygon fill=\"#f6d4bb\" stroke=\"black\" points=\"606,-214 400,-214 400,-161 606,-161 606,-214\"/>\n<text text-anchor=\"middle\" x=\"503\" y=\"-198.8\" font-family=\"Helvetica,sans-Serif\" font-size=\"14.00\">Minor_Axis_Length &lt;= 207.302</text>\n<text text-anchor=\"middle\" x=\"503\" y=\"-183.8\" font-family=\"Helvetica,sans-Serif\" font-size=\"14.00\">samples = 84.0%</text>\n<text text-anchor=\"middle\" x=\"503\" y=\"-168.8\" font-family=\"Helvetica,sans-Serif\" font-size=\"14.00\">value = [0.603, 0.397]</text>\n</g>\n<!-- 0&#45;&gt;64 -->\n<g id=\"edge8\" class=\"edge\">\n<title>0&#45;&gt;64</title>\n<path fill=\"none\" stroke=\"black\" d=\"M424,-249.87C435.85,-240.66 449.38,-230.15 461.84,-220.47\"/>\n<polygon fill=\"black\" stroke=\"black\" points=\"464.1,-223.15 469.85,-214.25 459.81,-217.62 464.1,-223.15\"/>\n<text text-anchor=\"middle\" x=\"466.73\" y=\"-235.35\" font-family=\"Helvetica,sans-Serif\" font-size=\"14.00\">False</text>\n</g>\n<!-- 2 -->\n<g id=\"node3\" class=\"node\">\n<title>2</title>\n<polygon fill=\"#40a1e6\" stroke=\"black\" points=\"158,-125 0,-125 0,-72 158,-72 158,-125\"/>\n<text text-anchor=\"middle\" x=\"79\" y=\"-109.8\" font-family=\"Helvetica,sans-Serif\" font-size=\"14.00\">Compactness &lt;= 0.676</text>\n<text text-anchor=\"middle\" x=\"79\" y=\"-94.8\" font-family=\"Helvetica,sans-Serif\" font-size=\"14.00\">samples = 11.6%</text>\n<text text-anchor=\"middle\" x=\"79\" y=\"-79.8\" font-family=\"Helvetica,sans-Serif\" font-size=\"14.00\">value = [0.036, 0.964]</text>\n</g>\n<!-- 1&#45;&gt;2 -->\n<g id=\"edge2\" class=\"edge\">\n<title>1&#45;&gt;2</title>\n<path fill=\"none\" stroke=\"black\" d=\"M220.34,-160.98C197.35,-150.98 170.81,-139.44 146.98,-129.07\"/>\n<polygon fill=\"black\" stroke=\"black\" points=\"148.22,-125.79 137.65,-125.01 145.43,-132.21 148.22,-125.79\"/>\n</g>\n<!-- 27 -->\n<g id=\"node6\" class=\"node\">\n<title>27</title>\n<polygon fill=\"#cee6f8\" stroke=\"black\" points=\"382,-125 176,-125 176,-72 382,-72 382,-125\"/>\n<text text-anchor=\"middle\" x=\"279\" y=\"-109.8\" font-family=\"Helvetica,sans-Serif\" font-size=\"14.00\">Major_Axis_Length &lt;= 495.565</text>\n<text text-anchor=\"middle\" x=\"279\" y=\"-94.8\" font-family=\"Helvetica,sans-Serif\" font-size=\"14.00\">samples = 4.4%</text>\n<text text-anchor=\"middle\" x=\"279\" y=\"-79.8\" font-family=\"Helvetica,sans-Serif\" font-size=\"14.00\">value = [0.429, 0.571]</text>\n</g>\n<!-- 1&#45;&gt;27 -->\n<g id=\"edge5\" class=\"edge\">\n<title>1&#45;&gt;27</title>\n<path fill=\"none\" stroke=\"black\" d=\"M279,-160.87C279,-152.89 279,-143.93 279,-135.38\"/>\n<polygon fill=\"black\" stroke=\"black\" points=\"282.5,-135.25 279,-125.25 275.5,-135.25 282.5,-135.25\"/>\n</g>\n<!-- 3 -->\n<g id=\"node4\" class=\"node\">\n<title>3</title>\n<polygon fill=\"#c0c0c0\" stroke=\"black\" points=\"84,-36 30,-36 30,0 84,0 84,-36\"/>\n<text text-anchor=\"middle\" x=\"57\" y=\"-14.3\" font-family=\"Helvetica,sans-Serif\" font-size=\"14.00\">(...)</text>\n</g>\n<!-- 2&#45;&gt;3 -->\n<g id=\"edge3\" class=\"edge\">\n<title>2&#45;&gt;3</title>\n<path fill=\"none\" stroke=\"black\" d=\"M71.8,-71.8C69.48,-63.53 66.91,-54.35 64.57,-46\"/>\n<polygon fill=\"black\" stroke=\"black\" points=\"67.93,-45.01 61.86,-36.33 61.19,-46.9 67.93,-45.01\"/>\n</g>\n<!-- 18 -->\n<g id=\"node5\" class=\"node\">\n<title>18</title>\n<polygon fill=\"#c0c0c0\" stroke=\"black\" points=\"156,-36 102,-36 102,0 156,0 156,-36\"/>\n<text text-anchor=\"middle\" x=\"129\" y=\"-14.3\" font-family=\"Helvetica,sans-Serif\" font-size=\"14.00\">(...)</text>\n</g>\n<!-- 2&#45;&gt;18 -->\n<g id=\"edge4\" class=\"edge\">\n<title>2&#45;&gt;18</title>\n<path fill=\"none\" stroke=\"black\" d=\"M95.37,-71.8C100.87,-63.17 107,-53.54 112.5,-44.9\"/>\n<polygon fill=\"black\" stroke=\"black\" points=\"115.54,-46.65 117.96,-36.33 109.64,-42.88 115.54,-46.65\"/>\n</g>\n<!-- 28 -->\n<g id=\"node7\" class=\"node\">\n<title>28</title>\n<polygon fill=\"#c0c0c0\" stroke=\"black\" points=\"256,-36 202,-36 202,0 256,0 256,-36\"/>\n<text text-anchor=\"middle\" x=\"229\" y=\"-14.3\" font-family=\"Helvetica,sans-Serif\" font-size=\"14.00\">(...)</text>\n</g>\n<!-- 27&#45;&gt;28 -->\n<g id=\"edge6\" class=\"edge\">\n<title>27&#45;&gt;28</title>\n<path fill=\"none\" stroke=\"black\" d=\"M262.63,-71.8C257.13,-63.17 251,-53.54 245.5,-44.9\"/>\n<polygon fill=\"black\" stroke=\"black\" points=\"248.36,-42.88 240.04,-36.33 242.46,-46.65 248.36,-42.88\"/>\n</g>\n<!-- 59 -->\n<g id=\"node8\" class=\"node\">\n<title>59</title>\n<polygon fill=\"#c0c0c0\" stroke=\"black\" points=\"328,-36 274,-36 274,0 328,0 328,-36\"/>\n<text text-anchor=\"middle\" x=\"301\" y=\"-14.3\" font-family=\"Helvetica,sans-Serif\" font-size=\"14.00\">(...)</text>\n</g>\n<!-- 27&#45;&gt;59 -->\n<g id=\"edge7\" class=\"edge\">\n<title>27&#45;&gt;59</title>\n<path fill=\"none\" stroke=\"black\" d=\"M286.2,-71.8C288.52,-63.53 291.09,-54.35 293.43,-46\"/>\n<polygon fill=\"black\" stroke=\"black\" points=\"296.81,-46.9 296.14,-36.33 290.07,-45.01 296.81,-46.9\"/>\n</g>\n<!-- 65 -->\n<g id=\"node10\" class=\"node\">\n<title>65</title>\n<polygon fill=\"#52a9e8\" stroke=\"black\" points=\"606,-125 400,-125 400,-72 606,-72 606,-125\"/>\n<text text-anchor=\"middle\" x=\"503\" y=\"-109.8\" font-family=\"Helvetica,sans-Serif\" font-size=\"14.00\">Major_Axis_Length &lt;= 436.623</text>\n<text text-anchor=\"middle\" x=\"503\" y=\"-94.8\" font-family=\"Helvetica,sans-Serif\" font-size=\"14.00\">samples = 14.3%</text>\n<text text-anchor=\"middle\" x=\"503\" y=\"-79.8\" font-family=\"Helvetica,sans-Serif\" font-size=\"14.00\">value = [0.113, 0.887]</text>\n</g>\n<!-- 64&#45;&gt;65 -->\n<g id=\"edge9\" class=\"edge\">\n<title>64&#45;&gt;65</title>\n<path fill=\"none\" stroke=\"black\" d=\"M503,-160.87C503,-152.89 503,-143.93 503,-135.38\"/>\n<polygon fill=\"black\" stroke=\"black\" points=\"506.5,-135.25 503,-125.25 499.5,-135.25 506.5,-135.25\"/>\n</g>\n<!-- 94 -->\n<g id=\"node13\" class=\"node\">\n<title>94</title>\n<polygon fill=\"#f0b68d\" stroke=\"black\" points=\"782,-125 624,-125 624,-72 782,-72 782,-125\"/>\n<text text-anchor=\"middle\" x=\"703\" y=\"-109.8\" font-family=\"Helvetica,sans-Serif\" font-size=\"14.00\">Compactness &lt;= 0.705</text>\n<text text-anchor=\"middle\" x=\"703\" y=\"-94.8\" font-family=\"Helvetica,sans-Serif\" font-size=\"14.00\">samples = 69.7%</text>\n<text text-anchor=\"middle\" x=\"703\" y=\"-79.8\" font-family=\"Helvetica,sans-Serif\" font-size=\"14.00\">value = [0.702, 0.298]</text>\n</g>\n<!-- 64&#45;&gt;94 -->\n<g id=\"edge12\" class=\"edge\">\n<title>64&#45;&gt;94</title>\n<path fill=\"none\" stroke=\"black\" d=\"M561.66,-160.98C584.65,-150.98 611.19,-139.44 635.02,-129.07\"/>\n<polygon fill=\"black\" stroke=\"black\" points=\"636.57,-132.21 644.35,-125.01 633.78,-125.79 636.57,-132.21\"/>\n</g>\n<!-- 66 -->\n<g id=\"node11\" class=\"node\">\n<title>66</title>\n<polygon fill=\"#c0c0c0\" stroke=\"black\" points=\"494,-36 440,-36 440,0 494,0 494,-36\"/>\n<text text-anchor=\"middle\" x=\"467\" y=\"-14.3\" font-family=\"Helvetica,sans-Serif\" font-size=\"14.00\">(...)</text>\n</g>\n<!-- 65&#45;&gt;66 -->\n<g id=\"edge10\" class=\"edge\">\n<title>65&#45;&gt;66</title>\n<path fill=\"none\" stroke=\"black\" d=\"M491.21,-71.8C487.34,-63.35 483.03,-53.95 479.13,-45.45\"/>\n<polygon fill=\"black\" stroke=\"black\" points=\"482.3,-43.96 474.95,-36.33 475.93,-46.88 482.3,-43.96\"/>\n</g>\n<!-- 89 -->\n<g id=\"node12\" class=\"node\">\n<title>89</title>\n<polygon fill=\"#c0c0c0\" stroke=\"black\" points=\"566,-36 512,-36 512,0 566,0 566,-36\"/>\n<text text-anchor=\"middle\" x=\"539\" y=\"-14.3\" font-family=\"Helvetica,sans-Serif\" font-size=\"14.00\">(...)</text>\n</g>\n<!-- 65&#45;&gt;89 -->\n<g id=\"edge11\" class=\"edge\">\n<title>65&#45;&gt;89</title>\n<path fill=\"none\" stroke=\"black\" d=\"M514.79,-71.8C518.66,-63.35 522.97,-53.95 526.87,-45.45\"/>\n<polygon fill=\"black\" stroke=\"black\" points=\"530.07,-46.88 531.05,-36.33 523.7,-43.96 530.07,-46.88\"/>\n</g>\n<!-- 95 -->\n<g id=\"node14\" class=\"node\">\n<title>95</title>\n<polygon fill=\"#c0c0c0\" stroke=\"black\" points=\"694,-36 640,-36 640,0 694,0 694,-36\"/>\n<text text-anchor=\"middle\" x=\"667\" y=\"-14.3\" font-family=\"Helvetica,sans-Serif\" font-size=\"14.00\">(...)</text>\n</g>\n<!-- 94&#45;&gt;95 -->\n<g id=\"edge13\" class=\"edge\">\n<title>94&#45;&gt;95</title>\n<path fill=\"none\" stroke=\"black\" d=\"M691.21,-71.8C687.34,-63.35 683.03,-53.95 679.13,-45.45\"/>\n<polygon fill=\"black\" stroke=\"black\" points=\"682.3,-43.96 674.95,-36.33 675.93,-46.88 682.3,-43.96\"/>\n</g>\n<!-- 192 -->\n<g id=\"node15\" class=\"node\">\n<title>192</title>\n<polygon fill=\"#c0c0c0\" stroke=\"black\" points=\"766,-36 712,-36 712,0 766,0 766,-36\"/>\n<text text-anchor=\"middle\" x=\"739\" y=\"-14.3\" font-family=\"Helvetica,sans-Serif\" font-size=\"14.00\">(...)</text>\n</g>\n<!-- 94&#45;&gt;192 -->\n<g id=\"edge14\" class=\"edge\">\n<title>94&#45;&gt;192</title>\n<path fill=\"none\" stroke=\"black\" d=\"M714.79,-71.8C718.66,-63.35 722.97,-53.95 726.87,-45.45\"/>\n<polygon fill=\"black\" stroke=\"black\" points=\"730.07,-46.88 731.05,-36.33 723.7,-43.96 730.07,-46.88\"/>\n</g>\n</g>\n</svg>\n",
            "text/plain": [
              "<graphviz.sources.Source at 0x7f013d8975e0>"
            ]
          },
          "metadata": {}
        },
        {
          "output_type": "display_data",
          "data": {
            "image/svg+xml": "<?xml version=\"1.0\" encoding=\"UTF-8\" standalone=\"no\"?>\n<!DOCTYPE svg PUBLIC \"-//W3C//DTD SVG 1.1//EN\"\n \"http://www.w3.org/Graphics/SVG/1.1/DTD/svg11.dtd\">\n<!-- Generated by graphviz version 2.43.0 (0)\n -->\n<!-- Title: Tree Pages: 1 -->\n<svg width=\"710pt\" height=\"311pt\"\n viewBox=\"0.00 0.00 709.50 311.00\" xmlns=\"http://www.w3.org/2000/svg\" xmlns:xlink=\"http://www.w3.org/1999/xlink\">\n<g id=\"graph0\" class=\"graph\" transform=\"scale(1 1) rotate(0) translate(4 307)\">\n<title>Tree</title>\n<polygon fill=\"white\" stroke=\"transparent\" points=\"-4,4 -4,-307 705.5,-307 705.5,4 -4,4\"/>\n<!-- 0 -->\n<g id=\"node1\" class=\"node\">\n<title>0</title>\n<polygon fill=\"#fceee5\" stroke=\"black\" points=\"434.5,-303 287.5,-303 287.5,-250 434.5,-250 434.5,-303\"/>\n<text text-anchor=\"middle\" x=\"361\" y=\"-287.8\" font-family=\"Helvetica,sans-Serif\" font-size=\"14.00\">Extent &lt;= 0.629</text>\n<text text-anchor=\"middle\" x=\"361\" y=\"-272.8\" font-family=\"Helvetica,sans-Serif\" font-size=\"14.00\">samples = 100.0%</text>\n<text text-anchor=\"middle\" x=\"361\" y=\"-257.8\" font-family=\"Helvetica,sans-Serif\" font-size=\"14.00\">value = [0.536, 0.464]</text>\n</g>\n<!-- 1 -->\n<g id=\"node2\" class=\"node\">\n<title>1</title>\n<polygon fill=\"#5caeea\" stroke=\"black\" points=\"337.5,-214 190.5,-214 190.5,-161 337.5,-161 337.5,-214\"/>\n<text text-anchor=\"middle\" x=\"264\" y=\"-198.8\" font-family=\"Helvetica,sans-Serif\" font-size=\"14.00\">Eccentricity &lt;= 0.878</text>\n<text text-anchor=\"middle\" x=\"264\" y=\"-183.8\" font-family=\"Helvetica,sans-Serif\" font-size=\"14.00\">samples = 15.9%</text>\n<text text-anchor=\"middle\" x=\"264\" y=\"-168.8\" font-family=\"Helvetica,sans-Serif\" font-size=\"14.00\">value = [0.149, 0.851]</text>\n</g>\n<!-- 0&#45;&gt;1 -->\n<g id=\"edge1\" class=\"edge\">\n<title>0&#45;&gt;1</title>\n<path fill=\"none\" stroke=\"black\" d=\"M332.42,-249.87C322.35,-240.83 310.89,-230.55 300.26,-221.03\"/>\n<polygon fill=\"black\" stroke=\"black\" points=\"302.49,-218.32 292.71,-214.25 297.82,-223.53 302.49,-218.32\"/>\n<text text-anchor=\"middle\" x=\"294.07\" y=\"-235.51\" font-family=\"Helvetica,sans-Serif\" font-size=\"14.00\">True</text>\n</g>\n<!-- 58 -->\n<g id=\"node9\" class=\"node\">\n<title>58</title>\n<polygon fill=\"#f6d4bb\" stroke=\"black\" points=\"562,-214 356,-214 356,-161 562,-161 562,-214\"/>\n<text text-anchor=\"middle\" x=\"459\" y=\"-198.8\" font-family=\"Helvetica,sans-Serif\" font-size=\"14.00\">Minor_Axis_Length &lt;= 203.382</text>\n<text text-anchor=\"middle\" x=\"459\" y=\"-183.8\" font-family=\"Helvetica,sans-Serif\" font-size=\"14.00\">samples = 84.1%</text>\n<text text-anchor=\"middle\" x=\"459\" y=\"-168.8\" font-family=\"Helvetica,sans-Serif\" font-size=\"14.00\">value = [0.604, 0.396]</text>\n</g>\n<!-- 0&#45;&gt;58 -->\n<g id=\"edge8\" class=\"edge\">\n<title>0&#45;&gt;58</title>\n<path fill=\"none\" stroke=\"black\" d=\"M389.87,-249.87C400.05,-240.83 411.63,-230.55 422.36,-221.03\"/>\n<polygon fill=\"black\" stroke=\"black\" points=\"424.84,-223.51 429.99,-214.25 420.19,-218.27 424.84,-223.51\"/>\n<text text-anchor=\"middle\" x=\"428.51\" y=\"-235.51\" font-family=\"Helvetica,sans-Serif\" font-size=\"14.00\">False</text>\n</g>\n<!-- 2 -->\n<g id=\"node3\" class=\"node\">\n<title>2</title>\n<polygon fill=\"#fbe9dd\" stroke=\"black\" points=\"158,-125 0,-125 0,-72 158,-72 158,-125\"/>\n<text text-anchor=\"middle\" x=\"79\" y=\"-109.8\" font-family=\"Helvetica,sans-Serif\" font-size=\"14.00\">Compactness &lt;= 0.706</text>\n<text text-anchor=\"middle\" x=\"79\" y=\"-94.8\" font-family=\"Helvetica,sans-Serif\" font-size=\"14.00\">samples = 3.5%</text>\n<text text-anchor=\"middle\" x=\"79\" y=\"-79.8\" font-family=\"Helvetica,sans-Serif\" font-size=\"14.00\">value = [0.547, 0.453]</text>\n</g>\n<!-- 1&#45;&gt;2 -->\n<g id=\"edge2\" class=\"edge\">\n<title>1&#45;&gt;2</title>\n<path fill=\"none\" stroke=\"black\" d=\"M209.49,-160.87C188.51,-151 164.37,-139.65 142.6,-129.41\"/>\n<polygon fill=\"black\" stroke=\"black\" points=\"143.97,-126.19 133.44,-125.1 141,-132.52 143.97,-126.19\"/>\n</g>\n<!-- 33 -->\n<g id=\"node6\" class=\"node\">\n<title>33</title>\n<polygon fill=\"#42a1e6\" stroke=\"black\" points=\"355.5,-125 176.5,-125 176.5,-72 355.5,-72 355.5,-125\"/>\n<text text-anchor=\"middle\" x=\"266\" y=\"-109.8\" font-family=\"Helvetica,sans-Serif\" font-size=\"14.00\">Equiv_Diameter &lt;= 329.11</text>\n<text text-anchor=\"middle\" x=\"266\" y=\"-94.8\" font-family=\"Helvetica,sans-Serif\" font-size=\"14.00\">samples = 12.4%</text>\n<text text-anchor=\"middle\" x=\"266\" y=\"-79.8\" font-family=\"Helvetica,sans-Serif\" font-size=\"14.00\">value = [0.042, 0.958]</text>\n</g>\n<!-- 1&#45;&gt;33 -->\n<g id=\"edge5\" class=\"edge\">\n<title>1&#45;&gt;33</title>\n<path fill=\"none\" stroke=\"black\" d=\"M264.59,-160.87C264.77,-152.89 264.98,-143.93 265.18,-135.38\"/>\n<polygon fill=\"black\" stroke=\"black\" points=\"268.68,-135.33 265.41,-125.25 261.68,-135.17 268.68,-135.33\"/>\n</g>\n<!-- 3 -->\n<g id=\"node4\" class=\"node\">\n<title>3</title>\n<polygon fill=\"#c0c0c0\" stroke=\"black\" points=\"70,-36 16,-36 16,0 70,0 70,-36\"/>\n<text text-anchor=\"middle\" x=\"43\" y=\"-14.3\" font-family=\"Helvetica,sans-Serif\" font-size=\"14.00\">(...)</text>\n</g>\n<!-- 2&#45;&gt;3 -->\n<g id=\"edge3\" class=\"edge\">\n<title>2&#45;&gt;3</title>\n<path fill=\"none\" stroke=\"black\" d=\"M67.21,-71.8C63.34,-63.35 59.03,-53.95 55.13,-45.45\"/>\n<polygon fill=\"black\" stroke=\"black\" points=\"58.3,-43.96 50.95,-36.33 51.93,-46.88 58.3,-43.96\"/>\n</g>\n<!-- 20 -->\n<g id=\"node5\" class=\"node\">\n<title>20</title>\n<polygon fill=\"#c0c0c0\" stroke=\"black\" points=\"142,-36 88,-36 88,0 142,0 142,-36\"/>\n<text text-anchor=\"middle\" x=\"115\" y=\"-14.3\" font-family=\"Helvetica,sans-Serif\" font-size=\"14.00\">(...)</text>\n</g>\n<!-- 2&#45;&gt;20 -->\n<g id=\"edge4\" class=\"edge\">\n<title>2&#45;&gt;20</title>\n<path fill=\"none\" stroke=\"black\" d=\"M90.79,-71.8C94.66,-63.35 98.97,-53.95 102.87,-45.45\"/>\n<polygon fill=\"black\" stroke=\"black\" points=\"106.07,-46.88 107.05,-36.33 99.7,-43.96 106.07,-46.88\"/>\n</g>\n<!-- 34 -->\n<g id=\"node7\" class=\"node\">\n<title>34</title>\n<polygon fill=\"#c0c0c0\" stroke=\"black\" points=\"270,-36 216,-36 216,0 270,0 270,-36\"/>\n<text text-anchor=\"middle\" x=\"243\" y=\"-14.3\" font-family=\"Helvetica,sans-Serif\" font-size=\"14.00\">(...)</text>\n</g>\n<!-- 33&#45;&gt;34 -->\n<g id=\"edge6\" class=\"edge\">\n<title>33&#45;&gt;34</title>\n<path fill=\"none\" stroke=\"black\" d=\"M258.47,-71.8C256.05,-63.53 253.36,-54.35 250.91,-46\"/>\n<polygon fill=\"black\" stroke=\"black\" points=\"254.25,-44.94 248.08,-36.33 247.53,-46.91 254.25,-44.94\"/>\n</g>\n<!-- 57 -->\n<g id=\"node8\" class=\"node\">\n<title>57</title>\n<polygon fill=\"#c0c0c0\" stroke=\"black\" points=\"342,-36 288,-36 288,0 342,0 342,-36\"/>\n<text text-anchor=\"middle\" x=\"315\" y=\"-14.3\" font-family=\"Helvetica,sans-Serif\" font-size=\"14.00\">(...)</text>\n</g>\n<!-- 33&#45;&gt;57 -->\n<g id=\"edge7\" class=\"edge\">\n<title>33&#45;&gt;57</title>\n<path fill=\"none\" stroke=\"black\" d=\"M282.04,-71.8C287.43,-63.17 293.44,-53.54 298.83,-44.9\"/>\n<polygon fill=\"black\" stroke=\"black\" points=\"301.86,-46.67 304.18,-36.33 295.92,-42.96 301.86,-46.67\"/>\n</g>\n<!-- 59 -->\n<g id=\"node10\" class=\"node\">\n<title>59</title>\n<polygon fill=\"#45a3e7\" stroke=\"black\" points=\"536,-125 378,-125 378,-72 536,-72 536,-125\"/>\n<text text-anchor=\"middle\" x=\"457\" y=\"-109.8\" font-family=\"Helvetica,sans-Serif\" font-size=\"14.00\">Compactness &lt;= 0.736</text>\n<text text-anchor=\"middle\" x=\"457\" y=\"-94.8\" font-family=\"Helvetica,sans-Serif\" font-size=\"14.00\">samples = 10.6%</text>\n<text text-anchor=\"middle\" x=\"457\" y=\"-79.8\" font-family=\"Helvetica,sans-Serif\" font-size=\"14.00\">value = [0.059, 0.941]</text>\n</g>\n<!-- 58&#45;&gt;59 -->\n<g id=\"edge9\" class=\"edge\">\n<title>58&#45;&gt;59</title>\n<path fill=\"none\" stroke=\"black\" d=\"M458.41,-160.87C458.23,-152.89 458.02,-143.93 457.82,-135.38\"/>\n<polygon fill=\"black\" stroke=\"black\" points=\"461.32,-135.17 457.59,-125.25 454.32,-135.33 461.32,-135.17\"/>\n</g>\n<!-- 86 -->\n<g id=\"node13\" class=\"node\">\n<title>86</title>\n<polygon fill=\"#f1bb94\" stroke=\"black\" points=\"701.5,-125 554.5,-125 554.5,-72 701.5,-72 701.5,-125\"/>\n<text text-anchor=\"middle\" x=\"628\" y=\"-109.8\" font-family=\"Helvetica,sans-Serif\" font-size=\"14.00\">Eccentricity &lt;= 0.866</text>\n<text text-anchor=\"middle\" x=\"628\" y=\"-94.8\" font-family=\"Helvetica,sans-Serif\" font-size=\"14.00\">samples = 73.6%</text>\n<text text-anchor=\"middle\" x=\"628\" y=\"-79.8\" font-family=\"Helvetica,sans-Serif\" font-size=\"14.00\">value = [0.686, 0.314]</text>\n</g>\n<!-- 58&#45;&gt;86 -->\n<g id=\"edge12\" class=\"edge\">\n<title>58&#45;&gt;86</title>\n<path fill=\"none\" stroke=\"black\" d=\"M508.79,-160.87C527.79,-151.09 549.62,-139.85 569.36,-129.68\"/>\n<polygon fill=\"black\" stroke=\"black\" points=\"570.98,-132.79 578.27,-125.1 567.78,-126.56 570.98,-132.79\"/>\n</g>\n<!-- 60 -->\n<g id=\"node11\" class=\"node\">\n<title>60</title>\n<polygon fill=\"#c0c0c0\" stroke=\"black\" points=\"435,-36 381,-36 381,0 435,0 435,-36\"/>\n<text text-anchor=\"middle\" x=\"408\" y=\"-14.3\" font-family=\"Helvetica,sans-Serif\" font-size=\"14.00\">(...)</text>\n</g>\n<!-- 59&#45;&gt;60 -->\n<g id=\"edge10\" class=\"edge\">\n<title>59&#45;&gt;60</title>\n<path fill=\"none\" stroke=\"black\" d=\"M440.96,-71.8C435.57,-63.17 429.56,-53.54 424.17,-44.9\"/>\n<polygon fill=\"black\" stroke=\"black\" points=\"427.08,-42.96 418.82,-36.33 421.14,-46.67 427.08,-42.96\"/>\n</g>\n<!-- 85 -->\n<g id=\"node12\" class=\"node\">\n<title>85</title>\n<polygon fill=\"#c0c0c0\" stroke=\"black\" points=\"507,-36 453,-36 453,0 507,0 507,-36\"/>\n<text text-anchor=\"middle\" x=\"480\" y=\"-14.3\" font-family=\"Helvetica,sans-Serif\" font-size=\"14.00\">(...)</text>\n</g>\n<!-- 59&#45;&gt;85 -->\n<g id=\"edge11\" class=\"edge\">\n<title>59&#45;&gt;85</title>\n<path fill=\"none\" stroke=\"black\" d=\"M464.53,-71.8C466.95,-63.53 469.64,-54.35 472.09,-46\"/>\n<polygon fill=\"black\" stroke=\"black\" points=\"475.47,-46.91 474.92,-36.33 468.75,-44.94 475.47,-46.91\"/>\n</g>\n<!-- 87 -->\n<g id=\"node14\" class=\"node\">\n<title>87</title>\n<polygon fill=\"#c0c0c0\" stroke=\"black\" points=\"619,-36 565,-36 565,0 619,0 619,-36\"/>\n<text text-anchor=\"middle\" x=\"592\" y=\"-14.3\" font-family=\"Helvetica,sans-Serif\" font-size=\"14.00\">(...)</text>\n</g>\n<!-- 86&#45;&gt;87 -->\n<g id=\"edge13\" class=\"edge\">\n<title>86&#45;&gt;87</title>\n<path fill=\"none\" stroke=\"black\" d=\"M616.21,-71.8C612.34,-63.35 608.03,-53.95 604.13,-45.45\"/>\n<polygon fill=\"black\" stroke=\"black\" points=\"607.3,-43.96 599.95,-36.33 600.93,-46.88 607.3,-43.96\"/>\n</g>\n<!-- 302 -->\n<g id=\"node15\" class=\"node\">\n<title>302</title>\n<polygon fill=\"#c0c0c0\" stroke=\"black\" points=\"691,-36 637,-36 637,0 691,0 691,-36\"/>\n<text text-anchor=\"middle\" x=\"664\" y=\"-14.3\" font-family=\"Helvetica,sans-Serif\" font-size=\"14.00\">(...)</text>\n</g>\n<!-- 86&#45;&gt;302 -->\n<g id=\"edge14\" class=\"edge\">\n<title>86&#45;&gt;302</title>\n<path fill=\"none\" stroke=\"black\" d=\"M639.79,-71.8C643.66,-63.35 647.97,-53.95 651.87,-45.45\"/>\n<polygon fill=\"black\" stroke=\"black\" points=\"655.07,-46.88 656.05,-36.33 648.7,-43.96 655.07,-46.88\"/>\n</g>\n</g>\n</svg>\n",
            "text/plain": [
              "<graphviz.sources.Source at 0x7f013d897250>"
            ]
          },
          "metadata": {}
        }
      ]
    },
    {
      "cell_type": "code",
      "source": [
        "mean_Major_Axis_Length = Pumpkin_Seeds_dataset_2 ['Major_Axis_Length'].mean()"
      ],
      "metadata": {
        "id": "UQ7skInEYeNn"
      },
      "execution_count": null,
      "outputs": []
    },
    {
      "cell_type": "code",
      "source": [
        "mean_Minor_Axis_Length = Pumpkin_Seeds_dataset_2 ['Minor_Axis_Length'].mean()"
      ],
      "metadata": {
        "id": "35HxX2hiYene"
      },
      "execution_count": null,
      "outputs": []
    },
    {
      "cell_type": "code",
      "source": [
        "mean_Equiv_Diameter = Pumpkin_Seeds_dataset_2 ['Equiv_Diameter'].mean()"
      ],
      "metadata": {
        "id": "L_cdV1zRYfBI"
      },
      "execution_count": null,
      "outputs": []
    },
    {
      "cell_type": "code",
      "source": [
        "mean_Eccentricity = Pumpkin_Seeds_dataset_2 ['Eccentricity'].mean()"
      ],
      "metadata": {
        "id": "e4BGA8oNYokL"
      },
      "execution_count": null,
      "outputs": []
    },
    {
      "cell_type": "code",
      "source": [
        "mean_Solidity = Pumpkin_Seeds_dataset_2 ['Solidity'].mean()"
      ],
      "metadata": {
        "id": "ntFXwA9rYqeB"
      },
      "execution_count": null,
      "outputs": []
    },
    {
      "cell_type": "code",
      "source": [
        "mean_Extent = Pumpkin_Seeds_dataset_2 ['Extent'].mean()"
      ],
      "metadata": {
        "id": "ciewOkLvwXep"
      },
      "execution_count": null,
      "outputs": []
    },
    {
      "cell_type": "code",
      "source": [
        "mean_Compactness = Pumpkin_Seeds_dataset_2 ['Compactness'].mean()"
      ],
      "metadata": {
        "id": "Tj6u2Rf1wbah"
      },
      "execution_count": null,
      "outputs": []
    },
    {
      "cell_type": "code",
      "source": [
        "min(Pumpkin_Seeds_dataset_2['Major_Axis_Length'])"
      ],
      "metadata": {
        "colab": {
          "base_uri": "https://localhost:8080/"
        },
        "id": "rPSi8YVaYuAk",
        "outputId": "e0ac75be-1a91-4f07-ec90-992110199c52"
      },
      "execution_count": null,
      "outputs": [
        {
          "output_type": "execute_result",
          "data": {
            "text/plain": [
              "320.8446"
            ]
          },
          "metadata": {},
          "execution_count": 38
        }
      ]
    },
    {
      "cell_type": "code",
      "source": [
        "max(Pumpkin_Seeds_dataset_2['Major_Axis_Length'])"
      ],
      "metadata": {
        "colab": {
          "base_uri": "https://localhost:8080/"
        },
        "id": "ndOg8dI8YwSa",
        "outputId": "1124b857-bce6-4ad2-fd3b-e744d67fe571"
      },
      "execution_count": null,
      "outputs": [
        {
          "output_type": "execute_result",
          "data": {
            "text/plain": [
              "661.9113"
            ]
          },
          "metadata": {},
          "execution_count": 39
        }
      ]
    },
    {
      "cell_type": "code",
      "source": [
        "#Simulation of the Random Forest Model"
      ],
      "metadata": {
        "id": "bj9hSdoCY29m"
      },
      "execution_count": null,
      "outputs": []
    },
    {
      "cell_type": "code",
      "source": [
        "Pumpkin_Seeds_dataset_model.predict([[ 340.84 , mean_Minor_Axis_Length, mean_Equiv_Diameter, mean_Eccentricity, mean_Solidity,mean_Extent,mean_Compactness]])"
      ],
      "metadata": {
        "colab": {
          "base_uri": "https://localhost:8080/"
        },
        "id": "YqgriEMHY6Rh",
        "outputId": "9db0c82e-4287-41ee-9a37-3f8227beb713"
      },
      "execution_count": null,
      "outputs": [
        {
          "output_type": "stream",
          "name": "stderr",
          "text": [
            "/usr/local/lib/python3.9/dist-packages/sklearn/base.py:439: UserWarning: X does not have valid feature names, but RandomForestClassifier was fitted with feature names\n",
            "  warnings.warn(\n"
          ]
        },
        {
          "output_type": "execute_result",
          "data": {
            "text/plain": [
              "array([0])"
            ]
          },
          "metadata": {},
          "execution_count": 41
        }
      ]
    },
    {
      "cell_type": "code",
      "source": [
        "Pumpkin_Seeds_dataset_model.predict([[ 400.20 , mean_Minor_Axis_Length, mean_Equiv_Diameter, mean_Eccentricity, mean_Solidity,mean_Extent,mean_Compactness]])"
      ],
      "metadata": {
        "colab": {
          "base_uri": "https://localhost:8080/"
        },
        "id": "sP3HGw-OY8bk",
        "outputId": "8665ae56-6790-48d6-80de-da21e5795281"
      },
      "execution_count": null,
      "outputs": [
        {
          "output_type": "stream",
          "name": "stderr",
          "text": [
            "/usr/local/lib/python3.9/dist-packages/sklearn/base.py:439: UserWarning: X does not have valid feature names, but RandomForestClassifier was fitted with feature names\n",
            "  warnings.warn(\n"
          ]
        },
        {
          "output_type": "execute_result",
          "data": {
            "text/plain": [
              "array([0])"
            ]
          },
          "metadata": {},
          "execution_count": 42
        }
      ]
    },
    {
      "cell_type": "code",
      "source": [
        "Pumpkin_Seeds_dataset_model.predict([[ 420.86 , mean_Minor_Axis_Length, mean_Equiv_Diameter, mean_Eccentricity, mean_Solidity,mean_Extent,mean_Compactness]])"
      ],
      "metadata": {
        "colab": {
          "base_uri": "https://localhost:8080/"
        },
        "id": "S0GeAl_QY-iq",
        "outputId": "53c5f085-3d6f-4952-b017-8626171fec05"
      },
      "execution_count": null,
      "outputs": [
        {
          "output_type": "stream",
          "name": "stderr",
          "text": [
            "/usr/local/lib/python3.9/dist-packages/sklearn/base.py:439: UserWarning: X does not have valid feature names, but RandomForestClassifier was fitted with feature names\n",
            "  warnings.warn(\n"
          ]
        },
        {
          "output_type": "execute_result",
          "data": {
            "text/plain": [
              "array([0])"
            ]
          },
          "metadata": {},
          "execution_count": 43
        }
      ]
    },
    {
      "cell_type": "code",
      "source": [
        "Pumpkin_Seeds_dataset_model.predict([[ 460.26 , mean_Minor_Axis_Length, mean_Equiv_Diameter, mean_Eccentricity, mean_Solidity,mean_Extent,mean_Compactness]])"
      ],
      "metadata": {
        "colab": {
          "base_uri": "https://localhost:8080/"
        },
        "id": "eT2j0ojVZAkV",
        "outputId": "4f5edd93-6d38-4137-bb3e-5870485362e1"
      },
      "execution_count": null,
      "outputs": [
        {
          "output_type": "stream",
          "name": "stderr",
          "text": [
            "/usr/local/lib/python3.9/dist-packages/sklearn/base.py:439: UserWarning: X does not have valid feature names, but RandomForestClassifier was fitted with feature names\n",
            "  warnings.warn(\n"
          ]
        },
        {
          "output_type": "execute_result",
          "data": {
            "text/plain": [
              "array([0])"
            ]
          },
          "metadata": {},
          "execution_count": 44
        }
      ]
    },
    {
      "cell_type": "code",
      "source": [
        "Pumpkin_Seeds_dataset_model.predict([[ 500.46 , mean_Minor_Axis_Length, mean_Equiv_Diameter, mean_Eccentricity, mean_Solidity,mean_Extent,mean_Compactness]])"
      ],
      "metadata": {
        "colab": {
          "base_uri": "https://localhost:8080/"
        },
        "id": "hPhtvvGOZDOG",
        "outputId": "448938cb-98cb-46d7-83f2-1d1cb2225fc8"
      },
      "execution_count": null,
      "outputs": [
        {
          "output_type": "stream",
          "name": "stderr",
          "text": [
            "/usr/local/lib/python3.9/dist-packages/sklearn/base.py:439: UserWarning: X does not have valid feature names, but RandomForestClassifier was fitted with feature names\n",
            "  warnings.warn(\n"
          ]
        },
        {
          "output_type": "execute_result",
          "data": {
            "text/plain": [
              "array([0])"
            ]
          },
          "metadata": {},
          "execution_count": 45
        }
      ]
    },
    {
      "cell_type": "code",
      "source": [
        "Pumpkin_Seeds_dataset_model.predict([[ 530.66 , mean_Minor_Axis_Length, mean_Equiv_Diameter, mean_Eccentricity, mean_Solidity,mean_Extent,mean_Compactness]])"
      ],
      "metadata": {
        "colab": {
          "base_uri": "https://localhost:8080/"
        },
        "id": "LZWaJUlgZHK1",
        "outputId": "c45c5565-be75-4738-d2b2-ba152395288b"
      },
      "execution_count": null,
      "outputs": [
        {
          "output_type": "stream",
          "name": "stderr",
          "text": [
            "/usr/local/lib/python3.9/dist-packages/sklearn/base.py:439: UserWarning: X does not have valid feature names, but RandomForestClassifier was fitted with feature names\n",
            "  warnings.warn(\n"
          ]
        },
        {
          "output_type": "execute_result",
          "data": {
            "text/plain": [
              "array([0])"
            ]
          },
          "metadata": {},
          "execution_count": 46
        }
      ]
    },
    {
      "cell_type": "code",
      "source": [
        "Pumpkin_Seeds_dataset_model.predict([[ 660.86 , mean_Minor_Axis_Length, mean_Equiv_Diameter, mean_Eccentricity, mean_Solidity,mean_Extent,mean_Compactness]])"
      ],
      "metadata": {
        "colab": {
          "base_uri": "https://localhost:8080/"
        },
        "id": "uUQRDCJbZI95",
        "outputId": "77b67f39-d4c2-4206-e887-7c6f972fd1a8"
      },
      "execution_count": null,
      "outputs": [
        {
          "output_type": "stream",
          "name": "stderr",
          "text": [
            "/usr/local/lib/python3.9/dist-packages/sklearn/base.py:439: UserWarning: X does not have valid feature names, but RandomForestClassifier was fitted with feature names\n",
            "  warnings.warn(\n"
          ]
        },
        {
          "output_type": "execute_result",
          "data": {
            "text/plain": [
              "array([0])"
            ]
          },
          "metadata": {},
          "execution_count": 47
        }
      ]
    },
    {
      "cell_type": "code",
      "source": [
        "# Support Vector Machine Building"
      ],
      "metadata": {
        "id": "QPnFdQ7IUoAd"
      },
      "execution_count": null,
      "outputs": []
    },
    {
      "cell_type": "code",
      "source": [
        "import sklearn.svm"
      ],
      "metadata": {
        "id": "vPPK6DHfWTiM"
      },
      "execution_count": null,
      "outputs": []
    },
    {
      "cell_type": "code",
      "source": [
        "Pumpkin_Seeds_dataset_model_SVM = sklearn.svm.SVC( kernel = 'linear')"
      ],
      "metadata": {
        "id": "r_aM81YXWVP0"
      },
      "execution_count": null,
      "outputs": []
    },
    {
      "cell_type": "code",
      "source": [
        "Pumpkin_Seeds_dataset_model_SVM.fit(x_train, y_train)"
      ],
      "metadata": {
        "colab": {
          "base_uri": "https://localhost:8080/",
          "height": 74
        },
        "id": "riCG6LXOWVh2",
        "outputId": "84e1347d-4057-41b4-d995-fb897991e212"
      },
      "execution_count": null,
      "outputs": [
        {
          "output_type": "execute_result",
          "data": {
            "text/plain": [
              "SVC(kernel='linear')"
            ],
            "text/html": [
              "<style>#sk-container-id-2 {color: black;background-color: white;}#sk-container-id-2 pre{padding: 0;}#sk-container-id-2 div.sk-toggleable {background-color: white;}#sk-container-id-2 label.sk-toggleable__label {cursor: pointer;display: block;width: 100%;margin-bottom: 0;padding: 0.3em;box-sizing: border-box;text-align: center;}#sk-container-id-2 label.sk-toggleable__label-arrow:before {content: \"▸\";float: left;margin-right: 0.25em;color: #696969;}#sk-container-id-2 label.sk-toggleable__label-arrow:hover:before {color: black;}#sk-container-id-2 div.sk-estimator:hover label.sk-toggleable__label-arrow:before {color: black;}#sk-container-id-2 div.sk-toggleable__content {max-height: 0;max-width: 0;overflow: hidden;text-align: left;background-color: #f0f8ff;}#sk-container-id-2 div.sk-toggleable__content pre {margin: 0.2em;color: black;border-radius: 0.25em;background-color: #f0f8ff;}#sk-container-id-2 input.sk-toggleable__control:checked~div.sk-toggleable__content {max-height: 200px;max-width: 100%;overflow: auto;}#sk-container-id-2 input.sk-toggleable__control:checked~label.sk-toggleable__label-arrow:before {content: \"▾\";}#sk-container-id-2 div.sk-estimator input.sk-toggleable__control:checked~label.sk-toggleable__label {background-color: #d4ebff;}#sk-container-id-2 div.sk-label input.sk-toggleable__control:checked~label.sk-toggleable__label {background-color: #d4ebff;}#sk-container-id-2 input.sk-hidden--visually {border: 0;clip: rect(1px 1px 1px 1px);clip: rect(1px, 1px, 1px, 1px);height: 1px;margin: -1px;overflow: hidden;padding: 0;position: absolute;width: 1px;}#sk-container-id-2 div.sk-estimator {font-family: monospace;background-color: #f0f8ff;border: 1px dotted black;border-radius: 0.25em;box-sizing: border-box;margin-bottom: 0.5em;}#sk-container-id-2 div.sk-estimator:hover {background-color: #d4ebff;}#sk-container-id-2 div.sk-parallel-item::after {content: \"\";width: 100%;border-bottom: 1px solid gray;flex-grow: 1;}#sk-container-id-2 div.sk-label:hover label.sk-toggleable__label {background-color: #d4ebff;}#sk-container-id-2 div.sk-serial::before {content: \"\";position: absolute;border-left: 1px solid gray;box-sizing: border-box;top: 0;bottom: 0;left: 50%;z-index: 0;}#sk-container-id-2 div.sk-serial {display: flex;flex-direction: column;align-items: center;background-color: white;padding-right: 0.2em;padding-left: 0.2em;position: relative;}#sk-container-id-2 div.sk-item {position: relative;z-index: 1;}#sk-container-id-2 div.sk-parallel {display: flex;align-items: stretch;justify-content: center;background-color: white;position: relative;}#sk-container-id-2 div.sk-item::before, #sk-container-id-2 div.sk-parallel-item::before {content: \"\";position: absolute;border-left: 1px solid gray;box-sizing: border-box;top: 0;bottom: 0;left: 50%;z-index: -1;}#sk-container-id-2 div.sk-parallel-item {display: flex;flex-direction: column;z-index: 1;position: relative;background-color: white;}#sk-container-id-2 div.sk-parallel-item:first-child::after {align-self: flex-end;width: 50%;}#sk-container-id-2 div.sk-parallel-item:last-child::after {align-self: flex-start;width: 50%;}#sk-container-id-2 div.sk-parallel-item:only-child::after {width: 0;}#sk-container-id-2 div.sk-dashed-wrapped {border: 1px dashed gray;margin: 0 0.4em 0.5em 0.4em;box-sizing: border-box;padding-bottom: 0.4em;background-color: white;}#sk-container-id-2 div.sk-label label {font-family: monospace;font-weight: bold;display: inline-block;line-height: 1.2em;}#sk-container-id-2 div.sk-label-container {text-align: center;}#sk-container-id-2 div.sk-container {/* jupyter's `normalize.less` sets `[hidden] { display: none; }` but bootstrap.min.css set `[hidden] { display: none !important; }` so we also need the `!important` here to be able to override the default hidden behavior on the sphinx rendered scikit-learn.org. See: https://github.com/scikit-learn/scikit-learn/issues/21755 */display: inline-block !important;position: relative;}#sk-container-id-2 div.sk-text-repr-fallback {display: none;}</style><div id=\"sk-container-id-2\" class=\"sk-top-container\"><div class=\"sk-text-repr-fallback\"><pre>SVC(kernel=&#x27;linear&#x27;)</pre><b>In a Jupyter environment, please rerun this cell to show the HTML representation or trust the notebook. <br />On GitHub, the HTML representation is unable to render, please try loading this page with nbviewer.org.</b></div><div class=\"sk-container\" hidden><div class=\"sk-item\"><div class=\"sk-estimator sk-toggleable\"><input class=\"sk-toggleable__control sk-hidden--visually\" id=\"sk-estimator-id-2\" type=\"checkbox\" checked><label for=\"sk-estimator-id-2\" class=\"sk-toggleable__label sk-toggleable__label-arrow\">SVC</label><div class=\"sk-toggleable__content\"><pre>SVC(kernel=&#x27;linear&#x27;)</pre></div></div></div></div></div>"
            ]
          },
          "metadata": {},
          "execution_count": 50
        }
      ]
    },
    {
      "cell_type": "code",
      "source": [
        "y_predicted = Pumpkin_Seeds_dataset_model_SVM.predict( x_test)"
      ],
      "metadata": {
        "id": "sx4Ve2reWVyt"
      },
      "execution_count": null,
      "outputs": []
    },
    {
      "cell_type": "code",
      "source": [
        "print('Accuracy: %.3f' % accuracy_score(y_test, y_predicted))"
      ],
      "metadata": {
        "colab": {
          "base_uri": "https://localhost:8080/"
        },
        "id": "dPWF5WGrylbb",
        "outputId": "2d6312b2-dcd8-4356-d1ce-9777f319aedc"
      },
      "execution_count": null,
      "outputs": [
        {
          "output_type": "stream",
          "name": "stdout",
          "text": [
            "Accuracy: 0.848\n"
          ]
        }
      ]
    },
    {
      "cell_type": "code",
      "source": [
        "print(confusion_matrix(y_test, y_predicted))"
      ],
      "metadata": {
        "colab": {
          "base_uri": "https://localhost:8080/"
        },
        "id": "flq0j_meJ5Rt",
        "outputId": "09053b3c-0c5b-4f76-c268-7d2235ca70af"
      },
      "execution_count": null,
      "outputs": [
        {
          "output_type": "stream",
          "name": "stdout",
          "text": [
            "[[223  28]\n",
            " [ 48 201]]\n"
          ]
        }
      ]
    },
    {
      "cell_type": "code",
      "source": [
        "print(classification_report(y_test, y_predicted))"
      ],
      "metadata": {
        "colab": {
          "base_uri": "https://localhost:8080/"
        },
        "id": "vkuzP8QqKcua",
        "outputId": "d62b529c-6624-4a59-d5d7-9bce6ab5d576"
      },
      "execution_count": null,
      "outputs": [
        {
          "output_type": "stream",
          "name": "stdout",
          "text": [
            "              precision    recall  f1-score   support\n",
            "\n",
            "           0       0.82      0.89      0.85       251\n",
            "           1       0.88      0.81      0.84       249\n",
            "\n",
            "    accuracy                           0.85       500\n",
            "   macro avg       0.85      0.85      0.85       500\n",
            "weighted avg       0.85      0.85      0.85       500\n",
            "\n"
          ]
        }
      ]
    },
    {
      "cell_type": "code",
      "source": [
        "# Data Visualization with Python"
      ],
      "metadata": {
        "id": "bb0o9xCn67Nd"
      },
      "execution_count": null,
      "outputs": []
    },
    {
      "cell_type": "code",
      "source": [
        "sns.scatterplot(x= Pumpkin_Seeds_dataset_2['Major_Axis_Length'],y=Pumpkin_Seeds_dataset_2['Minor_Axis_Length'], hue=Pumpkin_Seeds_dataset_2['Class'])"
      ],
      "metadata": {
        "colab": {
          "base_uri": "https://localhost:8080/",
          "height": 297
        },
        "id": "wppChruM6boM",
        "outputId": "9a054040-b20c-49b6-f75f-7cf32f110b82"
      },
      "execution_count": null,
      "outputs": [
        {
          "output_type": "execute_result",
          "data": {
            "text/plain": [
              "<Axes: xlabel='Major_Axis_Length', ylabel='Minor_Axis_Length'>"
            ]
          },
          "metadata": {},
          "execution_count": 55
        },
        {
          "output_type": "display_data",
          "data": {
            "text/plain": [
              "<Figure size 432x288 with 1 Axes>"
            ],
            "image/png": "[encoded data removed]"
          },
          "metadata": {
            "needs_background": "light"
          }
        }
      ]
    },
    {
      "cell_type": "code",
      "source": [
        "sns.scatterplot(x= Pumpkin_Seeds_dataset_2['Equiv_Diameter'],y=Pumpkin_Seeds_dataset_2['Eccentricity'], hue=Pumpkin_Seeds_dataset_2['Class'])"
      ],
      "metadata": {
        "colab": {
          "base_uri": "https://localhost:8080/",
          "height": 297
        },
        "id": "TTAol7BS7DSU",
        "outputId": "046c28c0-e6b6-415b-8cdb-006459030825"
      },
      "execution_count": null,
      "outputs": [
        {
          "output_type": "execute_result",
          "data": {
            "text/plain": [
              "<Axes: xlabel='Equiv_Diameter', ylabel='Eccentricity'>"
            ]
          },
          "metadata": {},
          "execution_count": 56
        },
        {
          "output_type": "display_data",
          "data": {
            "text/plain": [
              "<Figure size 432x288 with 1 Axes>"
            ],
            "image/png": "[encoded data removed]"
          },
          "metadata": {
            "needs_background": "light"
          }
        }
      ]
    },
    {
      "cell_type": "code",
      "source": [
        "sns.scatterplot(x= Pumpkin_Seeds_dataset_2['Compactness'],y=Pumpkin_Seeds_dataset_2['Extent'], hue=Pumpkin_Seeds_dataset_2['Class'])"
      ],
      "metadata": {
        "colab": {
          "base_uri": "https://localhost:8080/",
          "height": 296
        },
        "id": "ruCiq__O7VUt",
        "outputId": "c6765f3a-8631-4257-bc5f-2f498c73617f"
      },
      "execution_count": null,
      "outputs": [
        {
          "output_type": "execute_result",
          "data": {
            "text/plain": [
              "<Axes: xlabel='Compactness', ylabel='Extent'>"
            ]
          },
          "metadata": {},
          "execution_count": 57
        },
        {
          "output_type": "display_data",
          "data": {
            "text/plain": [
              "<Figure size 432x288 with 1 Axes>"
            ],
            "image/png": "[encoded data removed]"
          },
          "metadata": {
            "needs_background": "light"
          }
        }
      ]
    },
    {
      "cell_type": "code",
      "source": [
        "# K-NN classification model"
      ],
      "metadata": {
        "id": "1j5SGCQA4IX5"
      },
      "execution_count": null,
      "outputs": []
    },
    {
      "cell_type": "code",
      "source": [
        "from sklearn.neighbors import KNeighborsClassifier"
      ],
      "metadata": {
        "id": "WMQdVo6HFIdj"
      },
      "execution_count": null,
      "outputs": []
    },
    {
      "cell_type": "code",
      "source": [
        "knn = KNeighborsClassifier(n_neighbors=25)"
      ],
      "metadata": {
        "id": "VAqudqdz8ysI"
      },
      "execution_count": null,
      "outputs": []
    },
    {
      "cell_type": "code",
      "source": [
        "knn.fit(x_train, y_train)"
      ],
      "metadata": {
        "colab": {
          "base_uri": "https://localhost:8080/",
          "height": 74
        },
        "id": "_swhEIsgFiad",
        "outputId": "0d4335f9-ac1e-4c48-ce30-5b09a240c65e"
      },
      "execution_count": null,
      "outputs": [
        {
          "output_type": "execute_result",
          "data": {
            "text/plain": [
              "KNeighborsClassifier(n_neighbors=25)"
            ],
            "text/html": [
              "<style>#sk-container-id-3 {color: black;background-color: white;}#sk-container-id-3 pre{padding: 0;}#sk-container-id-3 div.sk-toggleable {background-color: white;}#sk-container-id-3 label.sk-toggleable__label {cursor: pointer;display: block;width: 100%;margin-bottom: 0;padding: 0.3em;box-sizing: border-box;text-align: center;}#sk-container-id-3 label.sk-toggleable__label-arrow:before {content: \"▸\";float: left;margin-right: 0.25em;color: #696969;}#sk-container-id-3 label.sk-toggleable__label-arrow:hover:before {color: black;}#sk-container-id-3 div.sk-estimator:hover label.sk-toggleable__label-arrow:before {color: black;}#sk-container-id-3 div.sk-toggleable__content {max-height: 0;max-width: 0;overflow: hidden;text-align: left;background-color: #f0f8ff;}#sk-container-id-3 div.sk-toggleable__content pre {margin: 0.2em;color: black;border-radius: 0.25em;background-color: #f0f8ff;}#sk-container-id-3 input.sk-toggleable__control:checked~div.sk-toggleable__content {max-height: 200px;max-width: 100%;overflow: auto;}#sk-container-id-3 input.sk-toggleable__control:checked~label.sk-toggleable__label-arrow:before {content: \"▾\";}#sk-container-id-3 div.sk-estimator input.sk-toggleable__control:checked~label.sk-toggleable__label {background-color: #d4ebff;}#sk-container-id-3 div.sk-label input.sk-toggleable__control:checked~label.sk-toggleable__label {background-color: #d4ebff;}#sk-container-id-3 input.sk-hidden--visually {border: 0;clip: rect(1px 1px 1px 1px);clip: rect(1px, 1px, 1px, 1px);height: 1px;margin: -1px;overflow: hidden;padding: 0;position: absolute;width: 1px;}#sk-container-id-3 div.sk-estimator {font-family: monospace;background-color: #f0f8ff;border: 1px dotted black;border-radius: 0.25em;box-sizing: border-box;margin-bottom: 0.5em;}#sk-container-id-3 div.sk-estimator:hover {background-color: #d4ebff;}#sk-container-id-3 div.sk-parallel-item::after {content: \"\";width: 100%;border-bottom: 1px solid gray;flex-grow: 1;}#sk-container-id-3 div.sk-label:hover label.sk-toggleable__label {background-color: #d4ebff;}#sk-container-id-3 div.sk-serial::before {content: \"\";position: absolute;border-left: 1px solid gray;box-sizing: border-box;top: 0;bottom: 0;left: 50%;z-index: 0;}#sk-container-id-3 div.sk-serial {display: flex;flex-direction: column;align-items: center;background-color: white;padding-right: 0.2em;padding-left: 0.2em;position: relative;}#sk-container-id-3 div.sk-item {position: relative;z-index: 1;}#sk-container-id-3 div.sk-parallel {display: flex;align-items: stretch;justify-content: center;background-color: white;position: relative;}#sk-container-id-3 div.sk-item::before, #sk-container-id-3 div.sk-parallel-item::before {content: \"\";position: absolute;border-left: 1px solid gray;box-sizing: border-box;top: 0;bottom: 0;left: 50%;z-index: -1;}#sk-container-id-3 div.sk-parallel-item {display: flex;flex-direction: column;z-index: 1;position: relative;background-color: white;}#sk-container-id-3 div.sk-parallel-item:first-child::after {align-self: flex-end;width: 50%;}#sk-container-id-3 div.sk-parallel-item:last-child::after {align-self: flex-start;width: 50%;}#sk-container-id-3 div.sk-parallel-item:only-child::after {width: 0;}#sk-container-id-3 div.sk-dashed-wrapped {border: 1px dashed gray;margin: 0 0.4em 0.5em 0.4em;box-sizing: border-box;padding-bottom: 0.4em;background-color: white;}#sk-container-id-3 div.sk-label label {font-family: monospace;font-weight: bold;display: inline-block;line-height: 1.2em;}#sk-container-id-3 div.sk-label-container {text-align: center;}#sk-container-id-3 div.sk-container {/* jupyter's `normalize.less` sets `[hidden] { display: none; }` but bootstrap.min.css set `[hidden] { display: none !important; }` so we also need the `!important` here to be able to override the default hidden behavior on the sphinx rendered scikit-learn.org. See: https://github.com/scikit-learn/scikit-learn/issues/21755 */display: inline-block !important;position: relative;}#sk-container-id-3 div.sk-text-repr-fallback {display: none;}</style><div id=\"sk-container-id-3\" class=\"sk-top-container\"><div class=\"sk-text-repr-fallback\"><pre>KNeighborsClassifier(n_neighbors=25)</pre><b>In a Jupyter environment, please rerun this cell to show the HTML representation or trust the notebook. <br />On GitHub, the HTML representation is unable to render, please try loading this page with nbviewer.org.</b></div><div class=\"sk-container\" hidden><div class=\"sk-item\"><div class=\"sk-estimator sk-toggleable\"><input class=\"sk-toggleable__control sk-hidden--visually\" id=\"sk-estimator-id-3\" type=\"checkbox\" checked><label for=\"sk-estimator-id-3\" class=\"sk-toggleable__label sk-toggleable__label-arrow\">KNeighborsClassifier</label><div class=\"sk-toggleable__content\"><pre>KNeighborsClassifier(n_neighbors=25)</pre></div></div></div></div></div>"
            ]
          },
          "metadata": {},
          "execution_count": 60
        }
      ]
    },
    {
      "cell_type": "code",
      "source": [
        "knn.score(x_test, y_test)"
      ],
      "metadata": {
        "colab": {
          "base_uri": "https://localhost:8080/"
        },
        "id": "cIYEYZNqFWB8",
        "outputId": "fb69ccb0-b8b2-4fef-f298-2d3e0a125890"
      },
      "execution_count": null,
      "outputs": [
        {
          "output_type": "execute_result",
          "data": {
            "text/plain": [
              "0.868"
            ]
          },
          "metadata": {},
          "execution_count": 61
        }
      ]
    },
    {
      "cell_type": "code",
      "source": [
        "y_predicted_knn = knn.predict(x_test)"
      ],
      "metadata": {
        "id": "C_q-MRfWFo6S"
      },
      "execution_count": null,
      "outputs": []
    },
    {
      "cell_type": "code",
      "source": [
        "cm = confusion_matrix(y_test, y_predicted_knn)"
      ],
      "metadata": {
        "id": "o_K0Bc3WF8IU"
      },
      "execution_count": null,
      "outputs": []
    },
    {
      "cell_type": "code",
      "source": [
        "print(classification_report(y_test, y_predicted_knn))"
      ],
      "metadata": {
        "colab": {
          "base_uri": "https://localhost:8080/"
        },
        "id": "hpkurzwIGZDg",
        "outputId": "e01e6f08-2caa-4135-ccc6-2d1e2d6248e4"
      },
      "execution_count": null,
      "outputs": [
        {
          "output_type": "stream",
          "name": "stdout",
          "text": [
            "              precision    recall  f1-score   support\n",
            "\n",
            "           0       0.84      0.91      0.87       251\n",
            "           1       0.90      0.83      0.86       249\n",
            "\n",
            "    accuracy                           0.87       500\n",
            "   macro avg       0.87      0.87      0.87       500\n",
            "weighted avg       0.87      0.87      0.87       500\n",
            "\n"
          ]
        }
      ]
    }
  ]
}